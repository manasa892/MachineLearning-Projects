{
 "cells": [
  {
   "cell_type": "markdown",
   "id": "372ca081",
   "metadata": {},
   "source": [
    "### The U.S. Census Bureau, in collaboration with five federal agencies, launched the Household Pulse Survey to produce data on the social and economic impacts of Covid-19 on American households. The Household Pulse Survey was designed to gauge the impact of the pandemic on employment status, consumer spending, food security, housing, education disruptions, and dimensions of physical and mental wellness.\n",
    "\n",
    "#### The survey was designed to meet the goal of accurate and timely weekly estimates. It was conducted by an internet questionnaire, with invitations to participate sent by email and text message. The sample frame is the Census Bureau Master Address File Data. Housing units linked to one or more email addresses or cell phone numbers were randomly selected to participate, and one respondent from each housing unit was selected to respond for him or herself. Estimates are weighted to adjust for nonresponse and to match Census Bureau estimates of the population by age, gender, race and ethnicity, and educational attainment. All estimates shown meet the NCHS Data Presentation Standards for Proportions,"
   ]
  },
  {
   "cell_type": "markdown",
   "id": "90891d41",
   "metadata": {},
   "source": [
    "**Importing Libraries**"
   ]
  },
  {
   "cell_type": "code",
   "execution_count": 1,
   "id": "9874ba45",
   "metadata": {},
   "outputs": [],
   "source": [
    "import numpy as np \n",
    "import pandas as pd \n",
    "import seaborn as sns\n",
    "import matplotlib.pyplot as plt\n",
    "import seaborn as sns"
   ]
  },
  {
   "cell_type": "code",
   "execution_count": 2,
   "id": "54ac14f4",
   "metadata": {},
   "outputs": [],
   "source": [
    "df = pd.read_csv(\"Indicators_of_Anxiety_or_Depression_Based_on_Reported_Frequency_of_Symptoms_During_Last_7_Days.csv\")"
   ]
  },
  {
   "cell_type": "markdown",
   "id": "a0c80bf3",
   "metadata": {},
   "source": [
    "# Basic Exploration of the dataset\n",
    "\n",
    "**Head of the dataset**\n",
    "\n",
    "**Shape of the dataset**\n",
    "\n",
    "**info of the dataset**\n",
    "\n",
    "**summary of the dataset**"
   ]
  },
  {
   "cell_type": "code",
   "execution_count": 3,
   "id": "5e8c055d",
   "metadata": {},
   "outputs": [
    {
     "data": {
      "text/html": [
       "<div>\n",
       "<style scoped>\n",
       "    .dataframe tbody tr th:only-of-type {\n",
       "        vertical-align: middle;\n",
       "    }\n",
       "\n",
       "    .dataframe tbody tr th {\n",
       "        vertical-align: top;\n",
       "    }\n",
       "\n",
       "    .dataframe thead th {\n",
       "        text-align: right;\n",
       "    }\n",
       "</style>\n",
       "<table border=\"1\" class=\"dataframe\">\n",
       "  <thead>\n",
       "    <tr style=\"text-align: right;\">\n",
       "      <th></th>\n",
       "      <th>Indicator</th>\n",
       "      <th>Group</th>\n",
       "      <th>State</th>\n",
       "      <th>Subgroup</th>\n",
       "      <th>Phase</th>\n",
       "      <th>Time Period</th>\n",
       "      <th>Time Period Label</th>\n",
       "      <th>Time Period Start Date</th>\n",
       "      <th>Time Period End Date</th>\n",
       "      <th>Value</th>\n",
       "      <th>Low CI</th>\n",
       "      <th>High CI</th>\n",
       "      <th>Confidence Interval</th>\n",
       "      <th>Quartile Range</th>\n",
       "    </tr>\n",
       "  </thead>\n",
       "  <tbody>\n",
       "    <tr>\n",
       "      <th>0</th>\n",
       "      <td>Symptoms of Depressive Disorder</td>\n",
       "      <td>National Estimate</td>\n",
       "      <td>United States</td>\n",
       "      <td>United States</td>\n",
       "      <td>1</td>\n",
       "      <td>1</td>\n",
       "      <td>Apr 23 - May 5, 2020</td>\n",
       "      <td>04/23/2020</td>\n",
       "      <td>05/05/2020</td>\n",
       "      <td>23.5</td>\n",
       "      <td>22.7</td>\n",
       "      <td>24.3</td>\n",
       "      <td>22.7 - 24.3</td>\n",
       "      <td>NaN</td>\n",
       "    </tr>\n",
       "    <tr>\n",
       "      <th>1</th>\n",
       "      <td>Symptoms of Depressive Disorder</td>\n",
       "      <td>By Age</td>\n",
       "      <td>United States</td>\n",
       "      <td>18 - 29 years</td>\n",
       "      <td>1</td>\n",
       "      <td>1</td>\n",
       "      <td>Apr 23 - May 5, 2020</td>\n",
       "      <td>04/23/2020</td>\n",
       "      <td>05/05/2020</td>\n",
       "      <td>32.7</td>\n",
       "      <td>30.2</td>\n",
       "      <td>35.2</td>\n",
       "      <td>30.2 - 35.2</td>\n",
       "      <td>NaN</td>\n",
       "    </tr>\n",
       "    <tr>\n",
       "      <th>2</th>\n",
       "      <td>Symptoms of Depressive Disorder</td>\n",
       "      <td>By Age</td>\n",
       "      <td>United States</td>\n",
       "      <td>30 - 39 years</td>\n",
       "      <td>1</td>\n",
       "      <td>1</td>\n",
       "      <td>Apr 23 - May 5, 2020</td>\n",
       "      <td>04/23/2020</td>\n",
       "      <td>05/05/2020</td>\n",
       "      <td>25.7</td>\n",
       "      <td>24.1</td>\n",
       "      <td>27.3</td>\n",
       "      <td>24.1 - 27.3</td>\n",
       "      <td>NaN</td>\n",
       "    </tr>\n",
       "    <tr>\n",
       "      <th>3</th>\n",
       "      <td>Symptoms of Depressive Disorder</td>\n",
       "      <td>By Age</td>\n",
       "      <td>United States</td>\n",
       "      <td>40 - 49 years</td>\n",
       "      <td>1</td>\n",
       "      <td>1</td>\n",
       "      <td>Apr 23 - May 5, 2020</td>\n",
       "      <td>04/23/2020</td>\n",
       "      <td>05/05/2020</td>\n",
       "      <td>24.8</td>\n",
       "      <td>23.3</td>\n",
       "      <td>26.2</td>\n",
       "      <td>23.3 - 26.2</td>\n",
       "      <td>NaN</td>\n",
       "    </tr>\n",
       "    <tr>\n",
       "      <th>4</th>\n",
       "      <td>Symptoms of Depressive Disorder</td>\n",
       "      <td>By Age</td>\n",
       "      <td>United States</td>\n",
       "      <td>50 - 59 years</td>\n",
       "      <td>1</td>\n",
       "      <td>1</td>\n",
       "      <td>Apr 23 - May 5, 2020</td>\n",
       "      <td>04/23/2020</td>\n",
       "      <td>05/05/2020</td>\n",
       "      <td>23.2</td>\n",
       "      <td>21.5</td>\n",
       "      <td>25.0</td>\n",
       "      <td>21.5 - 25.0</td>\n",
       "      <td>NaN</td>\n",
       "    </tr>\n",
       "  </tbody>\n",
       "</table>\n",
       "</div>"
      ],
      "text/plain": [
       "                         Indicator              Group          State  \\\n",
       "0  Symptoms of Depressive Disorder  National Estimate  United States   \n",
       "1  Symptoms of Depressive Disorder             By Age  United States   \n",
       "2  Symptoms of Depressive Disorder             By Age  United States   \n",
       "3  Symptoms of Depressive Disorder             By Age  United States   \n",
       "4  Symptoms of Depressive Disorder             By Age  United States   \n",
       "\n",
       "        Subgroup Phase  Time Period     Time Period Label  \\\n",
       "0  United States     1            1  Apr 23 - May 5, 2020   \n",
       "1  18 - 29 years     1            1  Apr 23 - May 5, 2020   \n",
       "2  30 - 39 years     1            1  Apr 23 - May 5, 2020   \n",
       "3  40 - 49 years     1            1  Apr 23 - May 5, 2020   \n",
       "4  50 - 59 years     1            1  Apr 23 - May 5, 2020   \n",
       "\n",
       "  Time Period Start Date Time Period End Date  Value  Low CI  High CI  \\\n",
       "0             04/23/2020           05/05/2020   23.5    22.7     24.3   \n",
       "1             04/23/2020           05/05/2020   32.7    30.2     35.2   \n",
       "2             04/23/2020           05/05/2020   25.7    24.1     27.3   \n",
       "3             04/23/2020           05/05/2020   24.8    23.3     26.2   \n",
       "4             04/23/2020           05/05/2020   23.2    21.5     25.0   \n",
       "\n",
       "  Confidence Interval Quartile Range  \n",
       "0         22.7 - 24.3            NaN  \n",
       "1         30.2 - 35.2            NaN  \n",
       "2         24.1 - 27.3            NaN  \n",
       "3         23.3 - 26.2            NaN  \n",
       "4         21.5 - 25.0            NaN  "
      ]
     },
     "execution_count": 3,
     "metadata": {},
     "output_type": "execute_result"
    }
   ],
   "source": [
    "df.head()"
   ]
  },
  {
   "cell_type": "code",
   "execution_count": 4,
   "id": "7c02a211",
   "metadata": {},
   "outputs": [
    {
     "data": {
      "text/plain": [
       "(14373, 14)"
      ]
     },
     "execution_count": 4,
     "metadata": {},
     "output_type": "execute_result"
    }
   ],
   "source": [
    "df.shape"
   ]
  },
  {
   "cell_type": "code",
   "execution_count": 5,
   "id": "a251eda3",
   "metadata": {},
   "outputs": [
    {
     "name": "stdout",
     "output_type": "stream",
     "text": [
      "<class 'pandas.core.frame.DataFrame'>\n",
      "RangeIndex: 14373 entries, 0 to 14372\n",
      "Data columns (total 14 columns):\n",
      " #   Column                  Non-Null Count  Dtype  \n",
      "---  ------                  --------------  -----  \n",
      " 0   Indicator               14373 non-null  object \n",
      " 1   Group                   14373 non-null  object \n",
      " 2   State                   14373 non-null  object \n",
      " 3   Subgroup                14373 non-null  object \n",
      " 4   Phase                   14373 non-null  object \n",
      " 5   Time Period             14373 non-null  int64  \n",
      " 6   Time Period Label       14373 non-null  object \n",
      " 7   Time Period Start Date  14373 non-null  object \n",
      " 8   Time Period End Date    14373 non-null  object \n",
      " 9   Value                   13752 non-null  float64\n",
      " 10  Low CI                  13752 non-null  float64\n",
      " 11  High CI                 13752 non-null  float64\n",
      " 12  Confidence Interval     13752 non-null  object \n",
      " 13  Quartile Range          9486 non-null   object \n",
      "dtypes: float64(3), int64(1), object(10)\n",
      "memory usage: 1.5+ MB\n"
     ]
    }
   ],
   "source": [
    "df.info()"
   ]
  },
  {
   "cell_type": "code",
   "execution_count": 6,
   "id": "db68431c",
   "metadata": {},
   "outputs": [
    {
     "data": {
      "text/html": [
       "<div>\n",
       "<style scoped>\n",
       "    .dataframe tbody tr th:only-of-type {\n",
       "        vertical-align: middle;\n",
       "    }\n",
       "\n",
       "    .dataframe tbody tr th {\n",
       "        vertical-align: top;\n",
       "    }\n",
       "\n",
       "    .dataframe thead th {\n",
       "        text-align: right;\n",
       "    }\n",
       "</style>\n",
       "<table border=\"1\" class=\"dataframe\">\n",
       "  <thead>\n",
       "    <tr style=\"text-align: right;\">\n",
       "      <th></th>\n",
       "      <th>count</th>\n",
       "      <th>unique</th>\n",
       "      <th>top</th>\n",
       "      <th>freq</th>\n",
       "      <th>mean</th>\n",
       "      <th>std</th>\n",
       "      <th>min</th>\n",
       "      <th>25%</th>\n",
       "      <th>50%</th>\n",
       "      <th>75%</th>\n",
       "      <th>max</th>\n",
       "    </tr>\n",
       "  </thead>\n",
       "  <tbody>\n",
       "    <tr>\n",
       "      <th>Indicator</th>\n",
       "      <td>14373</td>\n",
       "      <td>3</td>\n",
       "      <td>Symptoms of Depressive Disorder</td>\n",
       "      <td>4791</td>\n",
       "      <td>NaN</td>\n",
       "      <td>NaN</td>\n",
       "      <td>NaN</td>\n",
       "      <td>NaN</td>\n",
       "      <td>NaN</td>\n",
       "      <td>NaN</td>\n",
       "      <td>NaN</td>\n",
       "    </tr>\n",
       "    <tr>\n",
       "      <th>Group</th>\n",
       "      <td>14373</td>\n",
       "      <td>9</td>\n",
       "      <td>By State</td>\n",
       "      <td>9486</td>\n",
       "      <td>NaN</td>\n",
       "      <td>NaN</td>\n",
       "      <td>NaN</td>\n",
       "      <td>NaN</td>\n",
       "      <td>NaN</td>\n",
       "      <td>NaN</td>\n",
       "      <td>NaN</td>\n",
       "    </tr>\n",
       "    <tr>\n",
       "      <th>State</th>\n",
       "      <td>14373</td>\n",
       "      <td>52</td>\n",
       "      <td>United States</td>\n",
       "      <td>4887</td>\n",
       "      <td>NaN</td>\n",
       "      <td>NaN</td>\n",
       "      <td>NaN</td>\n",
       "      <td>NaN</td>\n",
       "      <td>NaN</td>\n",
       "      <td>NaN</td>\n",
       "      <td>NaN</td>\n",
       "    </tr>\n",
       "    <tr>\n",
       "      <th>Subgroup</th>\n",
       "      <td>14373</td>\n",
       "      <td>78</td>\n",
       "      <td>United States</td>\n",
       "      <td>213</td>\n",
       "      <td>NaN</td>\n",
       "      <td>NaN</td>\n",
       "      <td>NaN</td>\n",
       "      <td>NaN</td>\n",
       "      <td>NaN</td>\n",
       "      <td>NaN</td>\n",
       "      <td>NaN</td>\n",
       "    </tr>\n",
       "    <tr>\n",
       "      <th>Phase</th>\n",
       "      <td>14373</td>\n",
       "      <td>15</td>\n",
       "      <td>1</td>\n",
       "      <td>2520</td>\n",
       "      <td>NaN</td>\n",
       "      <td>NaN</td>\n",
       "      <td>NaN</td>\n",
       "      <td>NaN</td>\n",
       "      <td>NaN</td>\n",
       "      <td>NaN</td>\n",
       "      <td>NaN</td>\n",
       "    </tr>\n",
       "    <tr>\n",
       "      <th>Time Period</th>\n",
       "      <td>14373.0</td>\n",
       "      <td>NaN</td>\n",
       "      <td>NaN</td>\n",
       "      <td>NaN</td>\n",
       "      <td>30.97871</td>\n",
       "      <td>18.61803</td>\n",
       "      <td>1.0</td>\n",
       "      <td>15.0</td>\n",
       "      <td>32.0</td>\n",
       "      <td>47.0</td>\n",
       "      <td>62.0</td>\n",
       "    </tr>\n",
       "    <tr>\n",
       "      <th>Time Period Label</th>\n",
       "      <td>14373</td>\n",
       "      <td>71</td>\n",
       "      <td>Sep 20 - Oct 2, 2023</td>\n",
       "      <td>234</td>\n",
       "      <td>NaN</td>\n",
       "      <td>NaN</td>\n",
       "      <td>NaN</td>\n",
       "      <td>NaN</td>\n",
       "      <td>NaN</td>\n",
       "      <td>NaN</td>\n",
       "      <td>NaN</td>\n",
       "    </tr>\n",
       "    <tr>\n",
       "      <th>Time Period Start Date</th>\n",
       "      <td>14373</td>\n",
       "      <td>71</td>\n",
       "      <td>09/20/2023</td>\n",
       "      <td>234</td>\n",
       "      <td>NaN</td>\n",
       "      <td>NaN</td>\n",
       "      <td>NaN</td>\n",
       "      <td>NaN</td>\n",
       "      <td>NaN</td>\n",
       "      <td>NaN</td>\n",
       "      <td>NaN</td>\n",
       "    </tr>\n",
       "    <tr>\n",
       "      <th>Time Period End Date</th>\n",
       "      <td>14373</td>\n",
       "      <td>71</td>\n",
       "      <td>10/02/2023</td>\n",
       "      <td>234</td>\n",
       "      <td>NaN</td>\n",
       "      <td>NaN</td>\n",
       "      <td>NaN</td>\n",
       "      <td>NaN</td>\n",
       "      <td>NaN</td>\n",
       "      <td>NaN</td>\n",
       "      <td>NaN</td>\n",
       "    </tr>\n",
       "    <tr>\n",
       "      <th>Value</th>\n",
       "      <td>13752.0</td>\n",
       "      <td>NaN</td>\n",
       "      <td>NaN</td>\n",
       "      <td>NaN</td>\n",
       "      <td>29.604632</td>\n",
       "      <td>8.252621</td>\n",
       "      <td>6.4</td>\n",
       "      <td>24.075</td>\n",
       "      <td>28.9</td>\n",
       "      <td>34.2</td>\n",
       "      <td>85.2</td>\n",
       "    </tr>\n",
       "    <tr>\n",
       "      <th>Low CI</th>\n",
       "      <td>13752.0</td>\n",
       "      <td>NaN</td>\n",
       "      <td>NaN</td>\n",
       "      <td>NaN</td>\n",
       "      <td>25.994554</td>\n",
       "      <td>8.019409</td>\n",
       "      <td>4.5</td>\n",
       "      <td>20.6</td>\n",
       "      <td>25.3</td>\n",
       "      <td>30.4</td>\n",
       "      <td>79.9</td>\n",
       "    </tr>\n",
       "    <tr>\n",
       "      <th>High CI</th>\n",
       "      <td>13752.0</td>\n",
       "      <td>NaN</td>\n",
       "      <td>NaN</td>\n",
       "      <td>NaN</td>\n",
       "      <td>33.458661</td>\n",
       "      <td>8.684505</td>\n",
       "      <td>7.9</td>\n",
       "      <td>27.7</td>\n",
       "      <td>32.9</td>\n",
       "      <td>38.2</td>\n",
       "      <td>89.5</td>\n",
       "    </tr>\n",
       "    <tr>\n",
       "      <th>Confidence Interval</th>\n",
       "      <td>13752</td>\n",
       "      <td>10847</td>\n",
       "      <td>22.1 - 31.0</td>\n",
       "      <td>6</td>\n",
       "      <td>NaN</td>\n",
       "      <td>NaN</td>\n",
       "      <td>NaN</td>\n",
       "      <td>NaN</td>\n",
       "      <td>NaN</td>\n",
       "      <td>NaN</td>\n",
       "      <td>NaN</td>\n",
       "    </tr>\n",
       "    <tr>\n",
       "      <th>Quartile Range</th>\n",
       "      <td>9486</td>\n",
       "      <td>728</td>\n",
       "      <td>23.4-25.7</td>\n",
       "      <td>27</td>\n",
       "      <td>NaN</td>\n",
       "      <td>NaN</td>\n",
       "      <td>NaN</td>\n",
       "      <td>NaN</td>\n",
       "      <td>NaN</td>\n",
       "      <td>NaN</td>\n",
       "      <td>NaN</td>\n",
       "    </tr>\n",
       "  </tbody>\n",
       "</table>\n",
       "</div>"
      ],
      "text/plain": [
       "                          count unique                              top  freq  \\\n",
       "Indicator                 14373      3  Symptoms of Depressive Disorder  4791   \n",
       "Group                     14373      9                         By State  9486   \n",
       "State                     14373     52                    United States  4887   \n",
       "Subgroup                  14373     78                    United States   213   \n",
       "Phase                     14373     15                                1  2520   \n",
       "Time Period             14373.0    NaN                              NaN   NaN   \n",
       "Time Period Label         14373     71             Sep 20 - Oct 2, 2023   234   \n",
       "Time Period Start Date    14373     71                       09/20/2023   234   \n",
       "Time Period End Date      14373     71                       10/02/2023   234   \n",
       "Value                   13752.0    NaN                              NaN   NaN   \n",
       "Low CI                  13752.0    NaN                              NaN   NaN   \n",
       "High CI                 13752.0    NaN                              NaN   NaN   \n",
       "Confidence Interval       13752  10847                      22.1 - 31.0     6   \n",
       "Quartile Range             9486    728                        23.4-25.7    27   \n",
       "\n",
       "                             mean       std  min     25%   50%   75%   max  \n",
       "Indicator                     NaN       NaN  NaN     NaN   NaN   NaN   NaN  \n",
       "Group                         NaN       NaN  NaN     NaN   NaN   NaN   NaN  \n",
       "State                         NaN       NaN  NaN     NaN   NaN   NaN   NaN  \n",
       "Subgroup                      NaN       NaN  NaN     NaN   NaN   NaN   NaN  \n",
       "Phase                         NaN       NaN  NaN     NaN   NaN   NaN   NaN  \n",
       "Time Period              30.97871  18.61803  1.0    15.0  32.0  47.0  62.0  \n",
       "Time Period Label             NaN       NaN  NaN     NaN   NaN   NaN   NaN  \n",
       "Time Period Start Date        NaN       NaN  NaN     NaN   NaN   NaN   NaN  \n",
       "Time Period End Date          NaN       NaN  NaN     NaN   NaN   NaN   NaN  \n",
       "Value                   29.604632  8.252621  6.4  24.075  28.9  34.2  85.2  \n",
       "Low CI                  25.994554  8.019409  4.5    20.6  25.3  30.4  79.9  \n",
       "High CI                 33.458661  8.684505  7.9    27.7  32.9  38.2  89.5  \n",
       "Confidence Interval           NaN       NaN  NaN     NaN   NaN   NaN   NaN  \n",
       "Quartile Range                NaN       NaN  NaN     NaN   NaN   NaN   NaN  "
      ]
     },
     "execution_count": 6,
     "metadata": {},
     "output_type": "execute_result"
    }
   ],
   "source": [
    "df.describe(include = \"all\").T"
   ]
  },
  {
   "cell_type": "code",
   "execution_count": 7,
   "id": "0737a75e",
   "metadata": {},
   "outputs": [
    {
     "name": "stdout",
     "output_type": "stream",
     "text": [
      "Number of duplicate rows = 0\n"
     ]
    },
    {
     "data": {
      "text/html": [
       "<div>\n",
       "<style scoped>\n",
       "    .dataframe tbody tr th:only-of-type {\n",
       "        vertical-align: middle;\n",
       "    }\n",
       "\n",
       "    .dataframe tbody tr th {\n",
       "        vertical-align: top;\n",
       "    }\n",
       "\n",
       "    .dataframe thead th {\n",
       "        text-align: right;\n",
       "    }\n",
       "</style>\n",
       "<table border=\"1\" class=\"dataframe\">\n",
       "  <thead>\n",
       "    <tr style=\"text-align: right;\">\n",
       "      <th></th>\n",
       "      <th>Indicator</th>\n",
       "      <th>Group</th>\n",
       "      <th>State</th>\n",
       "      <th>Subgroup</th>\n",
       "      <th>Phase</th>\n",
       "      <th>Time Period</th>\n",
       "      <th>Time Period Label</th>\n",
       "      <th>Time Period Start Date</th>\n",
       "      <th>Time Period End Date</th>\n",
       "      <th>Value</th>\n",
       "      <th>Low CI</th>\n",
       "      <th>High CI</th>\n",
       "      <th>Confidence Interval</th>\n",
       "      <th>Quartile Range</th>\n",
       "    </tr>\n",
       "  </thead>\n",
       "  <tbody>\n",
       "  </tbody>\n",
       "</table>\n",
       "</div>"
      ],
      "text/plain": [
       "Empty DataFrame\n",
       "Columns: [Indicator, Group, State, Subgroup, Phase, Time Period, Time Period Label, Time Period Start Date, Time Period End Date, Value, Low CI, High CI, Confidence Interval, Quartile Range]\n",
       "Index: []"
      ]
     },
     "execution_count": 7,
     "metadata": {},
     "output_type": "execute_result"
    }
   ],
   "source": [
    "#Check for duplicates data\n",
    "dups = df.duplicated()\n",
    "print(\"Number of duplicate rows = %d\" % (dups.sum()))\n",
    "\n",
    "df[dups]"
   ]
  },
  {
   "cell_type": "markdown",
   "id": "1208f0d7",
   "metadata": {},
   "source": [
    "# Check for missing values"
   ]
  },
  {
   "cell_type": "code",
   "execution_count": 8,
   "id": "803b86c9",
   "metadata": {},
   "outputs": [
    {
     "data": {
      "text/plain": [
       "Value                   621\n",
       "Low CI                  621\n",
       "High CI                 621\n",
       "Confidence Interval     621\n",
       "Quartile Range         4887\n",
       "dtype: int64"
      ]
     },
     "execution_count": 8,
     "metadata": {},
     "output_type": "execute_result"
    }
   ],
   "source": [
    "df.isnull().sum()[df.isnull().sum()>0]"
   ]
  },
  {
   "cell_type": "code",
   "execution_count": 9,
   "id": "291a900b",
   "metadata": {},
   "outputs": [],
   "source": [
    "#Retreiving the data type of the columns to determine imputing options \n",
    "selected_columns = ['Value','Low CI','High CI','Confidence Interval','Quartile Range']\n",
    "\n",
    "data_types  = df[selected_columns].dtypes"
   ]
  },
  {
   "cell_type": "code",
   "execution_count": 10,
   "id": "d76b469a",
   "metadata": {},
   "outputs": [
    {
     "name": "stdout",
     "output_type": "stream",
     "text": [
      "Value                  float64\n",
      "Low CI                 float64\n",
      "High CI                float64\n",
      "Confidence Interval     object\n",
      "Quartile Range          object\n",
      "dtype: object\n"
     ]
    }
   ],
   "source": [
    "print(data_types)"
   ]
  },
  {
   "cell_type": "markdown",
   "id": "6bf9e5c3",
   "metadata": {},
   "source": [
    "#### Imputing missing values"
   ]
  },
  {
   "cell_type": "code",
   "execution_count": 11,
   "id": "2e8200e0",
   "metadata": {},
   "outputs": [],
   "source": [
    "float_columns = ['Value','Low CI', 'High CI']\n",
    "\n",
    "for col in float_columns:\n",
    "    df[col].fillna(df[col].mean(), inplace = True)"
   ]
  },
  {
   "cell_type": "code",
   "execution_count": 12,
   "id": "f48261a8",
   "metadata": {},
   "outputs": [],
   "source": [
    "object_columns = ['Confidence Interval', 'Quartile Range']\n",
    "for col in object_columns:\n",
    "    df[col].fillna(df[col].mode()[0], inplace = True)"
   ]
  },
  {
   "cell_type": "code",
   "execution_count": 13,
   "id": "df2bd410",
   "metadata": {},
   "outputs": [
    {
     "data": {
      "text/plain": [
       "Indicator                 0\n",
       "Group                     0\n",
       "State                     0\n",
       "Subgroup                  0\n",
       "Phase                     0\n",
       "Time Period               0\n",
       "Time Period Label         0\n",
       "Time Period Start Date    0\n",
       "Time Period End Date      0\n",
       "Value                     0\n",
       "Low CI                    0\n",
       "High CI                   0\n",
       "Confidence Interval       0\n",
       "Quartile Range            0\n",
       "dtype: int64"
      ]
     },
     "execution_count": 13,
     "metadata": {},
     "output_type": "execute_result"
    }
   ],
   "source": [
    "df.isnull().sum()"
   ]
  },
  {
   "cell_type": "markdown",
   "id": "cd0497a5",
   "metadata": {},
   "source": [
    "### Visualization of the data"
   ]
  },
  {
   "cell_type": "code",
   "execution_count": 14,
   "id": "3eff0a3b",
   "metadata": {},
   "outputs": [
    {
     "data": {
      "image/png": "[encoded data removed]",
      "text/plain": [
       "<Figure size 1200x800 with 1 Axes>"
      ]
     },
     "metadata": {},
     "output_type": "display_data"
    }
   ],
   "source": [
    "# Visualization 1: Bar chart for Symptoms of Depressive Disorder by Age\n",
    "plt.figure(figsize=(12, 8))\n",
    "sns.barplot(x=\"Subgroup\", y=\"Value\", hue=\"Subgroup\", data=df[df['Group']=='By Age'])\n",
    "plt.title('Symptoms of Depressive Disorder by Age')\n",
    "plt.xlabel('Age Group')\n",
    "plt.ylabel('Percentage')\n",
    "plt.show()"
   ]
  },
  {
   "cell_type": "code",
   "execution_count": 15,
   "id": "b1a1574f",
   "metadata": {},
   "outputs": [
    {
     "data": {
      "image/png": "[encoded data removed]",
      "text/plain": [
       "<Figure size 1000x600 with 1 Axes>"
      ]
     },
     "metadata": {},
     "output_type": "display_data"
    }
   ],
   "source": [
    "\n",
    "# Visualization 2: Bar chart for Symptoms of Depressive Disorder by Sex\n",
    "plt.figure(figsize=(10, 6))\n",
    "sns.barplot(x=\"Subgroup\", y=\"Value\", hue=\"Subgroup\", data=df[df['Group']=='By Sex'])\n",
    "plt.title('Symptoms of Depressive Disorder by Sex')\n",
    "plt.xlabel('Sex')\n",
    "plt.ylabel('Percentage')\n",
    "plt.show()\n"
   ]
  },
  {
   "cell_type": "code",
   "execution_count": 16,
   "id": "7a0b92f6",
   "metadata": {},
   "outputs": [
    {
     "data": {
      "image/png": "[encoded data removed]",
      "text/plain": [
       "<Figure size 1400x800 with 1 Axes>"
      ]
     },
     "metadata": {},
     "output_type": "display_data"
    }
   ],
   "source": [
    "#Vsiualization 3: BAR Chart for symptoms of Depressive disorder by Race/Hispanic ethnicity\n",
    "plt.figure(figsize = (14,8))\n",
    "sns.barplot(x = \"Subgroup\", y = \"Value\", hue = \"Subgroup\", data = df[df['Group']==\"By Race/Hispanic ethnicity\"])\n",
    "plt.title(\"Symptoms of Depressive Disorder by Race/Hispanic ethnicity\")\n",
    "plt.xlabel('Race/Hispanic ethnicity')\n",
    "plt.ylabel(\"Percentage\")\n",
    "plt.xticks(rotation= 45)\n",
    "plt.show()"
   ]
  },
  {
   "cell_type": "code",
   "execution_count": 17,
   "id": "aff38d00",
   "metadata": {},
   "outputs": [
    {
     "data": {
      "image/png": "[encoded data removed]",
      "text/plain": [
       "<Figure size 1200x800 with 1 Axes>"
      ]
     },
     "metadata": {},
     "output_type": "display_data"
    }
   ],
   "source": [
    "#Visualization 4 : Bar chart for symptoms of Depressive Disorder by Education\n",
    "plt.figure(figsize  = (12,8))\n",
    "sns.barplot(x=\"Subgroup\", y = \"Value\", hue = \"Subgroup\", data = df[df['Group']=='By Education'])\n",
    "plt.title('Symptoms of Depressive Disorder by Education')\n",
    "plt.xlabel(\"Education Level\")\n",
    "plt.ylabel(\"Percentage\")\n",
    "plt.xticks(rotation = 45)\n",
    "plt.show()"
   ]
  },
  {
   "cell_type": "code",
   "execution_count": 18,
   "id": "93237fcc",
   "metadata": {},
   "outputs": [
    {
     "data": {
      "image/png": "[encoded data removed]",
      "text/plain": [
       "<Figure size 1600x1000 with 1 Axes>"
      ]
     },
     "metadata": {},
     "output_type": "display_data"
    }
   ],
   "source": [
    "#Visualization 5 : Boxplot for Symptoms of Depressive Disorder by State\n",
    "plt.figure(figsize  = (16, 10))\n",
    "sns.boxplot(x = \"Value\", y = \"State\", data = df[df['Group']=='By State'])\n",
    "plt.title('Symptoms of Depressive Disorder by State')\n",
    "plt.xlabel('Percentage')\n",
    "plt.ylabel('State')\n",
    "plt.show()"
   ]
  },
  {
   "cell_type": "code",
   "execution_count": 19,
   "id": "bd5f22dd",
   "metadata": {},
   "outputs": [],
   "source": [
    "#Mapping to perform the conversions\n",
    "phase_mapping = {\n",
    "    '-1' : 1, \n",
    "    '3 (Oct 28 - Dec 21)' : 3, \n",
    "    '3 (Jan 6 - Mar 29)' : 3\n",
    "}"
   ]
  },
  {
   "cell_type": "code",
   "execution_count": 20,
   "id": "85587445",
   "metadata": {},
   "outputs": [],
   "source": [
    "#Apply the mapping to the 'Phase' column\n",
    "df['Phase'] = df['Phase'].map(phase_mapping).fillna(df['Phase']).astype(float)"
   ]
  },
  {
   "cell_type": "code",
   "execution_count": 21,
   "id": "08b31391",
   "metadata": {},
   "outputs": [
    {
     "name": "stdout",
     "output_type": "stream",
     "text": [
      "[1.  2.  3.  3.1 3.2 3.3 3.4 3.5 3.6 3.7 3.8 3.9]\n"
     ]
    }
   ],
   "source": [
    "unique_phase_values = df['Phase'].unique()\n",
    "print(unique_phase_values)"
   ]
  },
  {
   "cell_type": "code",
   "execution_count": 22,
   "id": "c8141faa",
   "metadata": {},
   "outputs": [],
   "source": [
    "from sklearn.preprocessing import LabelEncoder\n",
    "\n",
    "label_encoder = LabelEncoder()\n",
    "\n",
    "columns_to_encode = ['Indicator', 'Group','State','Subgroup']\n",
    "\n",
    "for column in columns_to_encode:\n",
    "    df[column+ '_encoded'] = label_encoder.fit_transform(df[column])\n",
    "    "
   ]
  },
  {
   "cell_type": "code",
   "execution_count": 23,
   "id": "963914d1",
   "metadata": {},
   "outputs": [
    {
     "data": {
      "text/html": [
       "<div>\n",
       "<style scoped>\n",
       "    .dataframe tbody tr th:only-of-type {\n",
       "        vertical-align: middle;\n",
       "    }\n",
       "\n",
       "    .dataframe tbody tr th {\n",
       "        vertical-align: top;\n",
       "    }\n",
       "\n",
       "    .dataframe thead th {\n",
       "        text-align: right;\n",
       "    }\n",
       "</style>\n",
       "<table border=\"1\" class=\"dataframe\">\n",
       "  <thead>\n",
       "    <tr style=\"text-align: right;\">\n",
       "      <th></th>\n",
       "      <th>Indicator</th>\n",
       "      <th>Group</th>\n",
       "      <th>State</th>\n",
       "      <th>Subgroup</th>\n",
       "      <th>Phase</th>\n",
       "      <th>Time Period</th>\n",
       "      <th>Time Period Label</th>\n",
       "      <th>Time Period Start Date</th>\n",
       "      <th>Time Period End Date</th>\n",
       "      <th>Value</th>\n",
       "      <th>Low CI</th>\n",
       "      <th>High CI</th>\n",
       "      <th>Confidence Interval</th>\n",
       "      <th>Quartile Range</th>\n",
       "      <th>Indicator_encoded</th>\n",
       "      <th>Group_encoded</th>\n",
       "      <th>State_encoded</th>\n",
       "      <th>Subgroup_encoded</th>\n",
       "    </tr>\n",
       "  </thead>\n",
       "  <tbody>\n",
       "    <tr>\n",
       "      <th>0</th>\n",
       "      <td>Symptoms of Depressive Disorder</td>\n",
       "      <td>National Estimate</td>\n",
       "      <td>United States</td>\n",
       "      <td>United States</td>\n",
       "      <td>1.0</td>\n",
       "      <td>1</td>\n",
       "      <td>Apr 23 - May 5, 2020</td>\n",
       "      <td>04/23/2020</td>\n",
       "      <td>05/05/2020</td>\n",
       "      <td>23.5</td>\n",
       "      <td>22.7</td>\n",
       "      <td>24.3</td>\n",
       "      <td>22.7 - 24.3</td>\n",
       "      <td>23.4-25.7</td>\n",
       "      <td>2</td>\n",
       "      <td>8</td>\n",
       "      <td>44</td>\n",
       "      <td>68</td>\n",
       "    </tr>\n",
       "    <tr>\n",
       "      <th>1</th>\n",
       "      <td>Symptoms of Depressive Disorder</td>\n",
       "      <td>By Age</td>\n",
       "      <td>United States</td>\n",
       "      <td>18 - 29 years</td>\n",
       "      <td>1.0</td>\n",
       "      <td>1</td>\n",
       "      <td>Apr 23 - May 5, 2020</td>\n",
       "      <td>04/23/2020</td>\n",
       "      <td>05/05/2020</td>\n",
       "      <td>32.7</td>\n",
       "      <td>30.2</td>\n",
       "      <td>35.2</td>\n",
       "      <td>30.2 - 35.2</td>\n",
       "      <td>23.4-25.7</td>\n",
       "      <td>2</td>\n",
       "      <td>0</td>\n",
       "      <td>44</td>\n",
       "      <td>0</td>\n",
       "    </tr>\n",
       "    <tr>\n",
       "      <th>2</th>\n",
       "      <td>Symptoms of Depressive Disorder</td>\n",
       "      <td>By Age</td>\n",
       "      <td>United States</td>\n",
       "      <td>30 - 39 years</td>\n",
       "      <td>1.0</td>\n",
       "      <td>1</td>\n",
       "      <td>Apr 23 - May 5, 2020</td>\n",
       "      <td>04/23/2020</td>\n",
       "      <td>05/05/2020</td>\n",
       "      <td>25.7</td>\n",
       "      <td>24.1</td>\n",
       "      <td>27.3</td>\n",
       "      <td>24.1 - 27.3</td>\n",
       "      <td>23.4-25.7</td>\n",
       "      <td>2</td>\n",
       "      <td>0</td>\n",
       "      <td>44</td>\n",
       "      <td>1</td>\n",
       "    </tr>\n",
       "    <tr>\n",
       "      <th>3</th>\n",
       "      <td>Symptoms of Depressive Disorder</td>\n",
       "      <td>By Age</td>\n",
       "      <td>United States</td>\n",
       "      <td>40 - 49 years</td>\n",
       "      <td>1.0</td>\n",
       "      <td>1</td>\n",
       "      <td>Apr 23 - May 5, 2020</td>\n",
       "      <td>04/23/2020</td>\n",
       "      <td>05/05/2020</td>\n",
       "      <td>24.8</td>\n",
       "      <td>23.3</td>\n",
       "      <td>26.2</td>\n",
       "      <td>23.3 - 26.2</td>\n",
       "      <td>23.4-25.7</td>\n",
       "      <td>2</td>\n",
       "      <td>0</td>\n",
       "      <td>44</td>\n",
       "      <td>2</td>\n",
       "    </tr>\n",
       "    <tr>\n",
       "      <th>4</th>\n",
       "      <td>Symptoms of Depressive Disorder</td>\n",
       "      <td>By Age</td>\n",
       "      <td>United States</td>\n",
       "      <td>50 - 59 years</td>\n",
       "      <td>1.0</td>\n",
       "      <td>1</td>\n",
       "      <td>Apr 23 - May 5, 2020</td>\n",
       "      <td>04/23/2020</td>\n",
       "      <td>05/05/2020</td>\n",
       "      <td>23.2</td>\n",
       "      <td>21.5</td>\n",
       "      <td>25.0</td>\n",
       "      <td>21.5 - 25.0</td>\n",
       "      <td>23.4-25.7</td>\n",
       "      <td>2</td>\n",
       "      <td>0</td>\n",
       "      <td>44</td>\n",
       "      <td>3</td>\n",
       "    </tr>\n",
       "  </tbody>\n",
       "</table>\n",
       "</div>"
      ],
      "text/plain": [
       "                         Indicator              Group          State  \\\n",
       "0  Symptoms of Depressive Disorder  National Estimate  United States   \n",
       "1  Symptoms of Depressive Disorder             By Age  United States   \n",
       "2  Symptoms of Depressive Disorder             By Age  United States   \n",
       "3  Symptoms of Depressive Disorder             By Age  United States   \n",
       "4  Symptoms of Depressive Disorder             By Age  United States   \n",
       "\n",
       "        Subgroup  Phase  Time Period     Time Period Label  \\\n",
       "0  United States    1.0            1  Apr 23 - May 5, 2020   \n",
       "1  18 - 29 years    1.0            1  Apr 23 - May 5, 2020   \n",
       "2  30 - 39 years    1.0            1  Apr 23 - May 5, 2020   \n",
       "3  40 - 49 years    1.0            1  Apr 23 - May 5, 2020   \n",
       "4  50 - 59 years    1.0            1  Apr 23 - May 5, 2020   \n",
       "\n",
       "  Time Period Start Date Time Period End Date  Value  Low CI  High CI  \\\n",
       "0             04/23/2020           05/05/2020   23.5    22.7     24.3   \n",
       "1             04/23/2020           05/05/2020   32.7    30.2     35.2   \n",
       "2             04/23/2020           05/05/2020   25.7    24.1     27.3   \n",
       "3             04/23/2020           05/05/2020   24.8    23.3     26.2   \n",
       "4             04/23/2020           05/05/2020   23.2    21.5     25.0   \n",
       "\n",
       "  Confidence Interval Quartile Range  Indicator_encoded  Group_encoded  \\\n",
       "0         22.7 - 24.3      23.4-25.7                  2              8   \n",
       "1         30.2 - 35.2      23.4-25.7                  2              0   \n",
       "2         24.1 - 27.3      23.4-25.7                  2              0   \n",
       "3         23.3 - 26.2      23.4-25.7                  2              0   \n",
       "4         21.5 - 25.0      23.4-25.7                  2              0   \n",
       "\n",
       "   State_encoded  Subgroup_encoded  \n",
       "0             44                68  \n",
       "1             44                 0  \n",
       "2             44                 1  \n",
       "3             44                 2  \n",
       "4             44                 3  "
      ]
     },
     "execution_count": 23,
     "metadata": {},
     "output_type": "execute_result"
    }
   ],
   "source": [
    "df.head()"
   ]
  },
  {
   "cell_type": "markdown",
   "id": "5f0366ae",
   "metadata": {},
   "source": [
    "**The Columns \"Confidence Interval\" and \"Quartile Range\" seem to represent ranges of values. Here are some feature engineering techniques that can be considered for these columns**"
   ]
  },
  {
   "cell_type": "code",
   "execution_count": 24,
   "id": "18eb62d0",
   "metadata": {},
   "outputs": [],
   "source": [
    "# #Range Calculation\n",
    "# def calculate_range(interval):\n",
    "#     try:\n",
    "#         lower_limit = float(interval.split(' - ')[0])\n",
    "#         upper_limit = float(interval.split(' - ')[1])\n",
    "#         return upper_limit - lower_limit\n",
    "#     except (ValueError, IndexError):\n",
    "#         return None  # Handle the case where the split or conversion fails\n",
    "\n",
    "# # Create new columns with range values\n",
    "# df['Confidence Interval Range'] = df['Confidence Interval'].apply(calculate_range)\n",
    "# df['Quartile Range Range'] = df['Quartile Range'].apply(calculate_range)\n"
   ]
  },
  {
   "cell_type": "code",
   "execution_count": 25,
   "id": "121b7716",
   "metadata": {},
   "outputs": [],
   "source": [
    "# Calculating the mean of the confidence interval or quartile range\n",
    "# Function to split the string based on the presence of '-'\n",
    "def split_range(value):\n",
    "    if '-' in value:\n",
    "        return list(map(float, value.split('-')))\n",
    "    else:\n",
    "        return [float(value), float(value)]\n",
    "\n",
    "# Apply the function to 'Confidence Interval' and 'Quartile Range' columns\n",
    "df[['CI_Low', 'CI_High']] = df['Confidence Interval'].apply(split_range).apply(pd.Series)\n",
    "df[['QR_Low', 'QR_High']] = df['Quartile Range'].apply(split_range).apply(pd.Series)\n"
   ]
  },
  {
   "cell_type": "code",
   "execution_count": 26,
   "id": "67b3521f",
   "metadata": {},
   "outputs": [
    {
     "data": {
      "text/html": [
       "<div>\n",
       "<style scoped>\n",
       "    .dataframe tbody tr th:only-of-type {\n",
       "        vertical-align: middle;\n",
       "    }\n",
       "\n",
       "    .dataframe tbody tr th {\n",
       "        vertical-align: top;\n",
       "    }\n",
       "\n",
       "    .dataframe thead th {\n",
       "        text-align: right;\n",
       "    }\n",
       "</style>\n",
       "<table border=\"1\" class=\"dataframe\">\n",
       "  <thead>\n",
       "    <tr style=\"text-align: right;\">\n",
       "      <th></th>\n",
       "      <th>Indicator</th>\n",
       "      <th>Group</th>\n",
       "      <th>State</th>\n",
       "      <th>Subgroup</th>\n",
       "      <th>Phase</th>\n",
       "      <th>Time Period</th>\n",
       "      <th>Time Period Label</th>\n",
       "      <th>Time Period Start Date</th>\n",
       "      <th>Time Period End Date</th>\n",
       "      <th>Value</th>\n",
       "      <th>...</th>\n",
       "      <th>Confidence Interval</th>\n",
       "      <th>Quartile Range</th>\n",
       "      <th>Indicator_encoded</th>\n",
       "      <th>Group_encoded</th>\n",
       "      <th>State_encoded</th>\n",
       "      <th>Subgroup_encoded</th>\n",
       "      <th>CI_Low</th>\n",
       "      <th>CI_High</th>\n",
       "      <th>QR_Low</th>\n",
       "      <th>QR_High</th>\n",
       "    </tr>\n",
       "  </thead>\n",
       "  <tbody>\n",
       "    <tr>\n",
       "      <th>0</th>\n",
       "      <td>Symptoms of Depressive Disorder</td>\n",
       "      <td>National Estimate</td>\n",
       "      <td>United States</td>\n",
       "      <td>United States</td>\n",
       "      <td>1.0</td>\n",
       "      <td>1</td>\n",
       "      <td>Apr 23 - May 5, 2020</td>\n",
       "      <td>04/23/2020</td>\n",
       "      <td>05/05/2020</td>\n",
       "      <td>23.5</td>\n",
       "      <td>...</td>\n",
       "      <td>22.7 - 24.3</td>\n",
       "      <td>23.4-25.7</td>\n",
       "      <td>2</td>\n",
       "      <td>8</td>\n",
       "      <td>44</td>\n",
       "      <td>68</td>\n",
       "      <td>22.7</td>\n",
       "      <td>24.3</td>\n",
       "      <td>23.4</td>\n",
       "      <td>25.7</td>\n",
       "    </tr>\n",
       "    <tr>\n",
       "      <th>1</th>\n",
       "      <td>Symptoms of Depressive Disorder</td>\n",
       "      <td>By Age</td>\n",
       "      <td>United States</td>\n",
       "      <td>18 - 29 years</td>\n",
       "      <td>1.0</td>\n",
       "      <td>1</td>\n",
       "      <td>Apr 23 - May 5, 2020</td>\n",
       "      <td>04/23/2020</td>\n",
       "      <td>05/05/2020</td>\n",
       "      <td>32.7</td>\n",
       "      <td>...</td>\n",
       "      <td>30.2 - 35.2</td>\n",
       "      <td>23.4-25.7</td>\n",
       "      <td>2</td>\n",
       "      <td>0</td>\n",
       "      <td>44</td>\n",
       "      <td>0</td>\n",
       "      <td>30.2</td>\n",
       "      <td>35.2</td>\n",
       "      <td>23.4</td>\n",
       "      <td>25.7</td>\n",
       "    </tr>\n",
       "    <tr>\n",
       "      <th>2</th>\n",
       "      <td>Symptoms of Depressive Disorder</td>\n",
       "      <td>By Age</td>\n",
       "      <td>United States</td>\n",
       "      <td>30 - 39 years</td>\n",
       "      <td>1.0</td>\n",
       "      <td>1</td>\n",
       "      <td>Apr 23 - May 5, 2020</td>\n",
       "      <td>04/23/2020</td>\n",
       "      <td>05/05/2020</td>\n",
       "      <td>25.7</td>\n",
       "      <td>...</td>\n",
       "      <td>24.1 - 27.3</td>\n",
       "      <td>23.4-25.7</td>\n",
       "      <td>2</td>\n",
       "      <td>0</td>\n",
       "      <td>44</td>\n",
       "      <td>1</td>\n",
       "      <td>24.1</td>\n",
       "      <td>27.3</td>\n",
       "      <td>23.4</td>\n",
       "      <td>25.7</td>\n",
       "    </tr>\n",
       "    <tr>\n",
       "      <th>3</th>\n",
       "      <td>Symptoms of Depressive Disorder</td>\n",
       "      <td>By Age</td>\n",
       "      <td>United States</td>\n",
       "      <td>40 - 49 years</td>\n",
       "      <td>1.0</td>\n",
       "      <td>1</td>\n",
       "      <td>Apr 23 - May 5, 2020</td>\n",
       "      <td>04/23/2020</td>\n",
       "      <td>05/05/2020</td>\n",
       "      <td>24.8</td>\n",
       "      <td>...</td>\n",
       "      <td>23.3 - 26.2</td>\n",
       "      <td>23.4-25.7</td>\n",
       "      <td>2</td>\n",
       "      <td>0</td>\n",
       "      <td>44</td>\n",
       "      <td>2</td>\n",
       "      <td>23.3</td>\n",
       "      <td>26.2</td>\n",
       "      <td>23.4</td>\n",
       "      <td>25.7</td>\n",
       "    </tr>\n",
       "    <tr>\n",
       "      <th>4</th>\n",
       "      <td>Symptoms of Depressive Disorder</td>\n",
       "      <td>By Age</td>\n",
       "      <td>United States</td>\n",
       "      <td>50 - 59 years</td>\n",
       "      <td>1.0</td>\n",
       "      <td>1</td>\n",
       "      <td>Apr 23 - May 5, 2020</td>\n",
       "      <td>04/23/2020</td>\n",
       "      <td>05/05/2020</td>\n",
       "      <td>23.2</td>\n",
       "      <td>...</td>\n",
       "      <td>21.5 - 25.0</td>\n",
       "      <td>23.4-25.7</td>\n",
       "      <td>2</td>\n",
       "      <td>0</td>\n",
       "      <td>44</td>\n",
       "      <td>3</td>\n",
       "      <td>21.5</td>\n",
       "      <td>25.0</td>\n",
       "      <td>23.4</td>\n",
       "      <td>25.7</td>\n",
       "    </tr>\n",
       "  </tbody>\n",
       "</table>\n",
       "<p>5 rows × 22 columns</p>\n",
       "</div>"
      ],
      "text/plain": [
       "                         Indicator              Group          State  \\\n",
       "0  Symptoms of Depressive Disorder  National Estimate  United States   \n",
       "1  Symptoms of Depressive Disorder             By Age  United States   \n",
       "2  Symptoms of Depressive Disorder             By Age  United States   \n",
       "3  Symptoms of Depressive Disorder             By Age  United States   \n",
       "4  Symptoms of Depressive Disorder             By Age  United States   \n",
       "\n",
       "        Subgroup  Phase  Time Period     Time Period Label  \\\n",
       "0  United States    1.0            1  Apr 23 - May 5, 2020   \n",
       "1  18 - 29 years    1.0            1  Apr 23 - May 5, 2020   \n",
       "2  30 - 39 years    1.0            1  Apr 23 - May 5, 2020   \n",
       "3  40 - 49 years    1.0            1  Apr 23 - May 5, 2020   \n",
       "4  50 - 59 years    1.0            1  Apr 23 - May 5, 2020   \n",
       "\n",
       "  Time Period Start Date Time Period End Date  Value  ...  \\\n",
       "0             04/23/2020           05/05/2020   23.5  ...   \n",
       "1             04/23/2020           05/05/2020   32.7  ...   \n",
       "2             04/23/2020           05/05/2020   25.7  ...   \n",
       "3             04/23/2020           05/05/2020   24.8  ...   \n",
       "4             04/23/2020           05/05/2020   23.2  ...   \n",
       "\n",
       "   Confidence Interval  Quartile Range Indicator_encoded Group_encoded  \\\n",
       "0          22.7 - 24.3       23.4-25.7                 2             8   \n",
       "1          30.2 - 35.2       23.4-25.7                 2             0   \n",
       "2          24.1 - 27.3       23.4-25.7                 2             0   \n",
       "3          23.3 - 26.2       23.4-25.7                 2             0   \n",
       "4          21.5 - 25.0       23.4-25.7                 2             0   \n",
       "\n",
       "   State_encoded  Subgroup_encoded  CI_Low  CI_High  QR_Low  QR_High  \n",
       "0             44                68    22.7     24.3    23.4     25.7  \n",
       "1             44                 0    30.2     35.2    23.4     25.7  \n",
       "2             44                 1    24.1     27.3    23.4     25.7  \n",
       "3             44                 2    23.3     26.2    23.4     25.7  \n",
       "4             44                 3    21.5     25.0    23.4     25.7  \n",
       "\n",
       "[5 rows x 22 columns]"
      ]
     },
     "execution_count": 26,
     "metadata": {},
     "output_type": "execute_result"
    }
   ],
   "source": [
    "df.head()"
   ]
  },
  {
   "cell_type": "code",
   "execution_count": 27,
   "id": "eb7f07da",
   "metadata": {},
   "outputs": [],
   "source": [
    "#Convert date columns to datetime format\n",
    "df['Time Period Start Date'] = pd.to_datetime(df['Time Period Start Date'])\n",
    "df['Time Period End Date'] = pd.to_datetime(df['Time Period End Date'])"
   ]
  },
  {
   "cell_type": "code",
   "execution_count": 28,
   "id": "61dc241e",
   "metadata": {},
   "outputs": [],
   "source": [
    "#drop the 'Time Period Label' column\n",
    "df = df.drop('Time Period Label', axis = 1)"
   ]
  },
  {
   "cell_type": "code",
   "execution_count": 29,
   "id": "6f47b8e6",
   "metadata": {},
   "outputs": [
    {
     "name": "stdout",
     "output_type": "stream",
     "text": [
      "<class 'pandas.core.frame.DataFrame'>\n",
      "RangeIndex: 14373 entries, 0 to 14372\n",
      "Data columns (total 21 columns):\n",
      " #   Column                  Non-Null Count  Dtype         \n",
      "---  ------                  --------------  -----         \n",
      " 0   Indicator               14373 non-null  object        \n",
      " 1   Group                   14373 non-null  object        \n",
      " 2   State                   14373 non-null  object        \n",
      " 3   Subgroup                14373 non-null  object        \n",
      " 4   Phase                   14373 non-null  float64       \n",
      " 5   Time Period             14373 non-null  int64         \n",
      " 6   Time Period Start Date  14373 non-null  datetime64[ns]\n",
      " 7   Time Period End Date    14373 non-null  datetime64[ns]\n",
      " 8   Value                   14373 non-null  float64       \n",
      " 9   Low CI                  14373 non-null  float64       \n",
      " 10  High CI                 14373 non-null  float64       \n",
      " 11  Confidence Interval     14373 non-null  object        \n",
      " 12  Quartile Range          14373 non-null  object        \n",
      " 13  Indicator_encoded       14373 non-null  int32         \n",
      " 14  Group_encoded           14373 non-null  int32         \n",
      " 15  State_encoded           14373 non-null  int32         \n",
      " 16  Subgroup_encoded        14373 non-null  int32         \n",
      " 17  CI_Low                  14373 non-null  float64       \n",
      " 18  CI_High                 14373 non-null  float64       \n",
      " 19  QR_Low                  14373 non-null  float64       \n",
      " 20  QR_High                 14373 non-null  float64       \n",
      "dtypes: datetime64[ns](2), float64(8), int32(4), int64(1), object(6)\n",
      "memory usage: 2.1+ MB\n"
     ]
    }
   ],
   "source": [
    "df.info()"
   ]
  },
  {
   "cell_type": "code",
   "execution_count": 30,
   "id": "ad00206a",
   "metadata": {},
   "outputs": [],
   "source": [
    "#Feature Engineering techniques on Time Period Start date and Time Period End date\n",
    "df['Start Month'] = df['Time Period Start Date'].dt.month\n",
    "df['End Month'] = df['Time Period End Date'].dt.month\n",
    "df['Start Year'] = df['Time Period Start Date'].dt.year\n",
    "df['End Year'] = df['Time Period End Date'].dt.year\n",
    "df['Duration'] = (df['Time Period End Date'] - df['Time Period Start Date']).dt.days\n",
    "# df['Start Day of Week'] = df['Time Period Start Date'].dt.day_name()\n",
    "# df['End Day of Week'] = df['Time Period End Date'].dt.day_name()"
   ]
  },
  {
   "cell_type": "code",
   "execution_count": 31,
   "id": "d90d62be",
   "metadata": {},
   "outputs": [
    {
     "data": {
      "text/html": [
       "<div>\n",
       "<style scoped>\n",
       "    .dataframe tbody tr th:only-of-type {\n",
       "        vertical-align: middle;\n",
       "    }\n",
       "\n",
       "    .dataframe tbody tr th {\n",
       "        vertical-align: top;\n",
       "    }\n",
       "\n",
       "    .dataframe thead th {\n",
       "        text-align: right;\n",
       "    }\n",
       "</style>\n",
       "<table border=\"1\" class=\"dataframe\">\n",
       "  <thead>\n",
       "    <tr style=\"text-align: right;\">\n",
       "      <th></th>\n",
       "      <th>Indicator</th>\n",
       "      <th>Group</th>\n",
       "      <th>State</th>\n",
       "      <th>Subgroup</th>\n",
       "      <th>Phase</th>\n",
       "      <th>Time Period</th>\n",
       "      <th>Time Period Start Date</th>\n",
       "      <th>Time Period End Date</th>\n",
       "      <th>Value</th>\n",
       "      <th>Low CI</th>\n",
       "      <th>...</th>\n",
       "      <th>Subgroup_encoded</th>\n",
       "      <th>CI_Low</th>\n",
       "      <th>CI_High</th>\n",
       "      <th>QR_Low</th>\n",
       "      <th>QR_High</th>\n",
       "      <th>Start Month</th>\n",
       "      <th>End Month</th>\n",
       "      <th>Start Year</th>\n",
       "      <th>End Year</th>\n",
       "      <th>Duration</th>\n",
       "    </tr>\n",
       "  </thead>\n",
       "  <tbody>\n",
       "    <tr>\n",
       "      <th>0</th>\n",
       "      <td>Symptoms of Depressive Disorder</td>\n",
       "      <td>National Estimate</td>\n",
       "      <td>United States</td>\n",
       "      <td>United States</td>\n",
       "      <td>1.0</td>\n",
       "      <td>1</td>\n",
       "      <td>2020-04-23</td>\n",
       "      <td>2020-05-05</td>\n",
       "      <td>23.5</td>\n",
       "      <td>22.7</td>\n",
       "      <td>...</td>\n",
       "      <td>68</td>\n",
       "      <td>22.7</td>\n",
       "      <td>24.3</td>\n",
       "      <td>23.4</td>\n",
       "      <td>25.7</td>\n",
       "      <td>4</td>\n",
       "      <td>5</td>\n",
       "      <td>2020</td>\n",
       "      <td>2020</td>\n",
       "      <td>12</td>\n",
       "    </tr>\n",
       "    <tr>\n",
       "      <th>1</th>\n",
       "      <td>Symptoms of Depressive Disorder</td>\n",
       "      <td>By Age</td>\n",
       "      <td>United States</td>\n",
       "      <td>18 - 29 years</td>\n",
       "      <td>1.0</td>\n",
       "      <td>1</td>\n",
       "      <td>2020-04-23</td>\n",
       "      <td>2020-05-05</td>\n",
       "      <td>32.7</td>\n",
       "      <td>30.2</td>\n",
       "      <td>...</td>\n",
       "      <td>0</td>\n",
       "      <td>30.2</td>\n",
       "      <td>35.2</td>\n",
       "      <td>23.4</td>\n",
       "      <td>25.7</td>\n",
       "      <td>4</td>\n",
       "      <td>5</td>\n",
       "      <td>2020</td>\n",
       "      <td>2020</td>\n",
       "      <td>12</td>\n",
       "    </tr>\n",
       "    <tr>\n",
       "      <th>2</th>\n",
       "      <td>Symptoms of Depressive Disorder</td>\n",
       "      <td>By Age</td>\n",
       "      <td>United States</td>\n",
       "      <td>30 - 39 years</td>\n",
       "      <td>1.0</td>\n",
       "      <td>1</td>\n",
       "      <td>2020-04-23</td>\n",
       "      <td>2020-05-05</td>\n",
       "      <td>25.7</td>\n",
       "      <td>24.1</td>\n",
       "      <td>...</td>\n",
       "      <td>1</td>\n",
       "      <td>24.1</td>\n",
       "      <td>27.3</td>\n",
       "      <td>23.4</td>\n",
       "      <td>25.7</td>\n",
       "      <td>4</td>\n",
       "      <td>5</td>\n",
       "      <td>2020</td>\n",
       "      <td>2020</td>\n",
       "      <td>12</td>\n",
       "    </tr>\n",
       "    <tr>\n",
       "      <th>3</th>\n",
       "      <td>Symptoms of Depressive Disorder</td>\n",
       "      <td>By Age</td>\n",
       "      <td>United States</td>\n",
       "      <td>40 - 49 years</td>\n",
       "      <td>1.0</td>\n",
       "      <td>1</td>\n",
       "      <td>2020-04-23</td>\n",
       "      <td>2020-05-05</td>\n",
       "      <td>24.8</td>\n",
       "      <td>23.3</td>\n",
       "      <td>...</td>\n",
       "      <td>2</td>\n",
       "      <td>23.3</td>\n",
       "      <td>26.2</td>\n",
       "      <td>23.4</td>\n",
       "      <td>25.7</td>\n",
       "      <td>4</td>\n",
       "      <td>5</td>\n",
       "      <td>2020</td>\n",
       "      <td>2020</td>\n",
       "      <td>12</td>\n",
       "    </tr>\n",
       "    <tr>\n",
       "      <th>4</th>\n",
       "      <td>Symptoms of Depressive Disorder</td>\n",
       "      <td>By Age</td>\n",
       "      <td>United States</td>\n",
       "      <td>50 - 59 years</td>\n",
       "      <td>1.0</td>\n",
       "      <td>1</td>\n",
       "      <td>2020-04-23</td>\n",
       "      <td>2020-05-05</td>\n",
       "      <td>23.2</td>\n",
       "      <td>21.5</td>\n",
       "      <td>...</td>\n",
       "      <td>3</td>\n",
       "      <td>21.5</td>\n",
       "      <td>25.0</td>\n",
       "      <td>23.4</td>\n",
       "      <td>25.7</td>\n",
       "      <td>4</td>\n",
       "      <td>5</td>\n",
       "      <td>2020</td>\n",
       "      <td>2020</td>\n",
       "      <td>12</td>\n",
       "    </tr>\n",
       "  </tbody>\n",
       "</table>\n",
       "<p>5 rows × 26 columns</p>\n",
       "</div>"
      ],
      "text/plain": [
       "                         Indicator              Group          State  \\\n",
       "0  Symptoms of Depressive Disorder  National Estimate  United States   \n",
       "1  Symptoms of Depressive Disorder             By Age  United States   \n",
       "2  Symptoms of Depressive Disorder             By Age  United States   \n",
       "3  Symptoms of Depressive Disorder             By Age  United States   \n",
       "4  Symptoms of Depressive Disorder             By Age  United States   \n",
       "\n",
       "        Subgroup  Phase  Time Period Time Period Start Date  \\\n",
       "0  United States    1.0            1             2020-04-23   \n",
       "1  18 - 29 years    1.0            1             2020-04-23   \n",
       "2  30 - 39 years    1.0            1             2020-04-23   \n",
       "3  40 - 49 years    1.0            1             2020-04-23   \n",
       "4  50 - 59 years    1.0            1             2020-04-23   \n",
       "\n",
       "  Time Period End Date  Value  Low CI  ...  Subgroup_encoded CI_Low CI_High  \\\n",
       "0           2020-05-05   23.5    22.7  ...                68   22.7    24.3   \n",
       "1           2020-05-05   32.7    30.2  ...                 0   30.2    35.2   \n",
       "2           2020-05-05   25.7    24.1  ...                 1   24.1    27.3   \n",
       "3           2020-05-05   24.8    23.3  ...                 2   23.3    26.2   \n",
       "4           2020-05-05   23.2    21.5  ...                 3   21.5    25.0   \n",
       "\n",
       "   QR_Low  QR_High  Start Month  End Month  Start Year  End Year  Duration  \n",
       "0    23.4     25.7            4          5        2020      2020        12  \n",
       "1    23.4     25.7            4          5        2020      2020        12  \n",
       "2    23.4     25.7            4          5        2020      2020        12  \n",
       "3    23.4     25.7            4          5        2020      2020        12  \n",
       "4    23.4     25.7            4          5        2020      2020        12  \n",
       "\n",
       "[5 rows x 26 columns]"
      ]
     },
     "execution_count": 31,
     "metadata": {},
     "output_type": "execute_result"
    }
   ],
   "source": [
    "df.head()"
   ]
  },
  {
   "cell_type": "code",
   "execution_count": 32,
   "id": "dcf8e261",
   "metadata": {},
   "outputs": [],
   "source": [
    "#Splitting the data into numerical and categorical columns\n",
    "nums_df = df.select_dtypes(include = ['float64','int64'])\n",
    "\n",
    "#Categorical columns\n",
    "cats_df = df.select_dtypes(include = ['object'])\n"
   ]
  },
  {
   "cell_type": "code",
   "execution_count": 33,
   "id": "d41eb1c2",
   "metadata": {},
   "outputs": [
    {
     "data": {
      "text/plain": [
       "Index(['Phase', 'Time Period', 'Value', 'Low CI', 'High CI', 'CI_Low',\n",
       "       'CI_High', 'QR_Low', 'QR_High', 'Start Month', 'End Month',\n",
       "       'Start Year', 'End Year', 'Duration'],\n",
       "      dtype='object')"
      ]
     },
     "execution_count": 33,
     "metadata": {},
     "output_type": "execute_result"
    }
   ],
   "source": [
    "nums_df.columns"
   ]
  },
  {
   "cell_type": "code",
   "execution_count": 34,
   "id": "6ac808d4",
   "metadata": {},
   "outputs": [
    {
     "data": {
      "text/html": [
       "<div>\n",
       "<style scoped>\n",
       "    .dataframe tbody tr th:only-of-type {\n",
       "        vertical-align: middle;\n",
       "    }\n",
       "\n",
       "    .dataframe tbody tr th {\n",
       "        vertical-align: top;\n",
       "    }\n",
       "\n",
       "    .dataframe thead th {\n",
       "        text-align: right;\n",
       "    }\n",
       "</style>\n",
       "<table border=\"1\" class=\"dataframe\">\n",
       "  <thead>\n",
       "    <tr style=\"text-align: right;\">\n",
       "      <th></th>\n",
       "      <th>Phase</th>\n",
       "      <th>Time Period</th>\n",
       "      <th>Value</th>\n",
       "      <th>Low CI</th>\n",
       "      <th>High CI</th>\n",
       "      <th>CI_Low</th>\n",
       "      <th>CI_High</th>\n",
       "      <th>QR_Low</th>\n",
       "      <th>QR_High</th>\n",
       "      <th>Start Month</th>\n",
       "      <th>End Month</th>\n",
       "      <th>Start Year</th>\n",
       "      <th>End Year</th>\n",
       "      <th>Duration</th>\n",
       "    </tr>\n",
       "  </thead>\n",
       "  <tbody>\n",
       "    <tr>\n",
       "      <th>0</th>\n",
       "      <td>1.0</td>\n",
       "      <td>1</td>\n",
       "      <td>23.5</td>\n",
       "      <td>22.7</td>\n",
       "      <td>24.3</td>\n",
       "      <td>22.7</td>\n",
       "      <td>24.3</td>\n",
       "      <td>23.4</td>\n",
       "      <td>25.7</td>\n",
       "      <td>4</td>\n",
       "      <td>5</td>\n",
       "      <td>2020</td>\n",
       "      <td>2020</td>\n",
       "      <td>12</td>\n",
       "    </tr>\n",
       "    <tr>\n",
       "      <th>1</th>\n",
       "      <td>1.0</td>\n",
       "      <td>1</td>\n",
       "      <td>32.7</td>\n",
       "      <td>30.2</td>\n",
       "      <td>35.2</td>\n",
       "      <td>30.2</td>\n",
       "      <td>35.2</td>\n",
       "      <td>23.4</td>\n",
       "      <td>25.7</td>\n",
       "      <td>4</td>\n",
       "      <td>5</td>\n",
       "      <td>2020</td>\n",
       "      <td>2020</td>\n",
       "      <td>12</td>\n",
       "    </tr>\n",
       "    <tr>\n",
       "      <th>2</th>\n",
       "      <td>1.0</td>\n",
       "      <td>1</td>\n",
       "      <td>25.7</td>\n",
       "      <td>24.1</td>\n",
       "      <td>27.3</td>\n",
       "      <td>24.1</td>\n",
       "      <td>27.3</td>\n",
       "      <td>23.4</td>\n",
       "      <td>25.7</td>\n",
       "      <td>4</td>\n",
       "      <td>5</td>\n",
       "      <td>2020</td>\n",
       "      <td>2020</td>\n",
       "      <td>12</td>\n",
       "    </tr>\n",
       "    <tr>\n",
       "      <th>3</th>\n",
       "      <td>1.0</td>\n",
       "      <td>1</td>\n",
       "      <td>24.8</td>\n",
       "      <td>23.3</td>\n",
       "      <td>26.2</td>\n",
       "      <td>23.3</td>\n",
       "      <td>26.2</td>\n",
       "      <td>23.4</td>\n",
       "      <td>25.7</td>\n",
       "      <td>4</td>\n",
       "      <td>5</td>\n",
       "      <td>2020</td>\n",
       "      <td>2020</td>\n",
       "      <td>12</td>\n",
       "    </tr>\n",
       "    <tr>\n",
       "      <th>4</th>\n",
       "      <td>1.0</td>\n",
       "      <td>1</td>\n",
       "      <td>23.2</td>\n",
       "      <td>21.5</td>\n",
       "      <td>25.0</td>\n",
       "      <td>21.5</td>\n",
       "      <td>25.0</td>\n",
       "      <td>23.4</td>\n",
       "      <td>25.7</td>\n",
       "      <td>4</td>\n",
       "      <td>5</td>\n",
       "      <td>2020</td>\n",
       "      <td>2020</td>\n",
       "      <td>12</td>\n",
       "    </tr>\n",
       "  </tbody>\n",
       "</table>\n",
       "</div>"
      ],
      "text/plain": [
       "   Phase  Time Period  Value  Low CI  High CI  CI_Low  CI_High  QR_Low  \\\n",
       "0    1.0            1   23.5    22.7     24.3    22.7     24.3    23.4   \n",
       "1    1.0            1   32.7    30.2     35.2    30.2     35.2    23.4   \n",
       "2    1.0            1   25.7    24.1     27.3    24.1     27.3    23.4   \n",
       "3    1.0            1   24.8    23.3     26.2    23.3     26.2    23.4   \n",
       "4    1.0            1   23.2    21.5     25.0    21.5     25.0    23.4   \n",
       "\n",
       "   QR_High  Start Month  End Month  Start Year  End Year  Duration  \n",
       "0     25.7            4          5        2020      2020        12  \n",
       "1     25.7            4          5        2020      2020        12  \n",
       "2     25.7            4          5        2020      2020        12  \n",
       "3     25.7            4          5        2020      2020        12  \n",
       "4     25.7            4          5        2020      2020        12  "
      ]
     },
     "execution_count": 34,
     "metadata": {},
     "output_type": "execute_result"
    }
   ],
   "source": [
    "nums_df.head()"
   ]
  },
  {
   "cell_type": "code",
   "execution_count": 35,
   "id": "58bedae2",
   "metadata": {},
   "outputs": [
    {
     "data": {
      "text/plain": [
       "Index(['Indicator', 'Group', 'State', 'Subgroup', 'Confidence Interval',\n",
       "       'Quartile Range'],\n",
       "      dtype='object')"
      ]
     },
     "execution_count": 35,
     "metadata": {},
     "output_type": "execute_result"
    }
   ],
   "source": [
    "cats_df.columns"
   ]
  },
  {
   "cell_type": "code",
   "execution_count": 36,
   "id": "1f41f879",
   "metadata": {},
   "outputs": [
    {
     "data": {
      "text/html": [
       "<div>\n",
       "<style scoped>\n",
       "    .dataframe tbody tr th:only-of-type {\n",
       "        vertical-align: middle;\n",
       "    }\n",
       "\n",
       "    .dataframe tbody tr th {\n",
       "        vertical-align: top;\n",
       "    }\n",
       "\n",
       "    .dataframe thead th {\n",
       "        text-align: right;\n",
       "    }\n",
       "</style>\n",
       "<table border=\"1\" class=\"dataframe\">\n",
       "  <thead>\n",
       "    <tr style=\"text-align: right;\">\n",
       "      <th></th>\n",
       "      <th>Indicator</th>\n",
       "      <th>Group</th>\n",
       "      <th>State</th>\n",
       "      <th>Subgroup</th>\n",
       "      <th>Confidence Interval</th>\n",
       "      <th>Quartile Range</th>\n",
       "    </tr>\n",
       "  </thead>\n",
       "  <tbody>\n",
       "    <tr>\n",
       "      <th>0</th>\n",
       "      <td>Symptoms of Depressive Disorder</td>\n",
       "      <td>National Estimate</td>\n",
       "      <td>United States</td>\n",
       "      <td>United States</td>\n",
       "      <td>22.7 - 24.3</td>\n",
       "      <td>23.4-25.7</td>\n",
       "    </tr>\n",
       "    <tr>\n",
       "      <th>1</th>\n",
       "      <td>Symptoms of Depressive Disorder</td>\n",
       "      <td>By Age</td>\n",
       "      <td>United States</td>\n",
       "      <td>18 - 29 years</td>\n",
       "      <td>30.2 - 35.2</td>\n",
       "      <td>23.4-25.7</td>\n",
       "    </tr>\n",
       "    <tr>\n",
       "      <th>2</th>\n",
       "      <td>Symptoms of Depressive Disorder</td>\n",
       "      <td>By Age</td>\n",
       "      <td>United States</td>\n",
       "      <td>30 - 39 years</td>\n",
       "      <td>24.1 - 27.3</td>\n",
       "      <td>23.4-25.7</td>\n",
       "    </tr>\n",
       "    <tr>\n",
       "      <th>3</th>\n",
       "      <td>Symptoms of Depressive Disorder</td>\n",
       "      <td>By Age</td>\n",
       "      <td>United States</td>\n",
       "      <td>40 - 49 years</td>\n",
       "      <td>23.3 - 26.2</td>\n",
       "      <td>23.4-25.7</td>\n",
       "    </tr>\n",
       "    <tr>\n",
       "      <th>4</th>\n",
       "      <td>Symptoms of Depressive Disorder</td>\n",
       "      <td>By Age</td>\n",
       "      <td>United States</td>\n",
       "      <td>50 - 59 years</td>\n",
       "      <td>21.5 - 25.0</td>\n",
       "      <td>23.4-25.7</td>\n",
       "    </tr>\n",
       "  </tbody>\n",
       "</table>\n",
       "</div>"
      ],
      "text/plain": [
       "                         Indicator              Group          State  \\\n",
       "0  Symptoms of Depressive Disorder  National Estimate  United States   \n",
       "1  Symptoms of Depressive Disorder             By Age  United States   \n",
       "2  Symptoms of Depressive Disorder             By Age  United States   \n",
       "3  Symptoms of Depressive Disorder             By Age  United States   \n",
       "4  Symptoms of Depressive Disorder             By Age  United States   \n",
       "\n",
       "        Subgroup Confidence Interval Quartile Range  \n",
       "0  United States         22.7 - 24.3      23.4-25.7  \n",
       "1  18 - 29 years         30.2 - 35.2      23.4-25.7  \n",
       "2  30 - 39 years         24.1 - 27.3      23.4-25.7  \n",
       "3  40 - 49 years         23.3 - 26.2      23.4-25.7  \n",
       "4  50 - 59 years         21.5 - 25.0      23.4-25.7  "
      ]
     },
     "execution_count": 36,
     "metadata": {},
     "output_type": "execute_result"
    }
   ],
   "source": [
    "cats_df.head()"
   ]
  },
  {
   "cell_type": "code",
   "execution_count": 37,
   "id": "a237ecb9",
   "metadata": {},
   "outputs": [
    {
     "data": {
      "image/png": "[encoded data removed]",
      "text/plain": [
       "<Figure size 640x480 with 2 Axes>"
      ]
     },
     "metadata": {},
     "output_type": "display_data"
    }
   ],
   "source": [
    "#Correlation plot\n",
    "sns.heatmap(nums_df.iloc[:,0:6].corr(), annot=True)\n",
    "plt.show()"
   ]
  },
  {
   "cell_type": "markdown",
   "id": "5419f626",
   "metadata": {},
   "source": [
    "# Train Test Split"
   ]
  },
  {
   "cell_type": "code",
   "execution_count": 38,
   "id": "fd5498f2",
   "metadata": {},
   "outputs": [],
   "source": [
    "#Copy all the predictor variables into X dataframe\n",
    "X = nums_df.drop('Value', axis = 1)\n",
    "\n",
    "#Copy target into the y dataframe\n",
    "y = nums_df[['Value']]"
   ]
  },
  {
   "cell_type": "code",
   "execution_count": 39,
   "id": "fd63339d",
   "metadata": {},
   "outputs": [
    {
     "data": {
      "text/html": [
       "<div>\n",
       "<style scoped>\n",
       "    .dataframe tbody tr th:only-of-type {\n",
       "        vertical-align: middle;\n",
       "    }\n",
       "\n",
       "    .dataframe tbody tr th {\n",
       "        vertical-align: top;\n",
       "    }\n",
       "\n",
       "    .dataframe thead th {\n",
       "        text-align: right;\n",
       "    }\n",
       "</style>\n",
       "<table border=\"1\" class=\"dataframe\">\n",
       "  <thead>\n",
       "    <tr style=\"text-align: right;\">\n",
       "      <th></th>\n",
       "      <th>Phase</th>\n",
       "      <th>Time Period</th>\n",
       "      <th>Low CI</th>\n",
       "      <th>High CI</th>\n",
       "      <th>CI_Low</th>\n",
       "      <th>CI_High</th>\n",
       "      <th>QR_Low</th>\n",
       "      <th>QR_High</th>\n",
       "      <th>Start Month</th>\n",
       "      <th>End Month</th>\n",
       "      <th>Start Year</th>\n",
       "      <th>End Year</th>\n",
       "      <th>Duration</th>\n",
       "    </tr>\n",
       "  </thead>\n",
       "  <tbody>\n",
       "    <tr>\n",
       "      <th>0</th>\n",
       "      <td>1.0</td>\n",
       "      <td>1</td>\n",
       "      <td>22.7</td>\n",
       "      <td>24.3</td>\n",
       "      <td>22.7</td>\n",
       "      <td>24.3</td>\n",
       "      <td>23.4</td>\n",
       "      <td>25.7</td>\n",
       "      <td>4</td>\n",
       "      <td>5</td>\n",
       "      <td>2020</td>\n",
       "      <td>2020</td>\n",
       "      <td>12</td>\n",
       "    </tr>\n",
       "    <tr>\n",
       "      <th>1</th>\n",
       "      <td>1.0</td>\n",
       "      <td>1</td>\n",
       "      <td>30.2</td>\n",
       "      <td>35.2</td>\n",
       "      <td>30.2</td>\n",
       "      <td>35.2</td>\n",
       "      <td>23.4</td>\n",
       "      <td>25.7</td>\n",
       "      <td>4</td>\n",
       "      <td>5</td>\n",
       "      <td>2020</td>\n",
       "      <td>2020</td>\n",
       "      <td>12</td>\n",
       "    </tr>\n",
       "    <tr>\n",
       "      <th>2</th>\n",
       "      <td>1.0</td>\n",
       "      <td>1</td>\n",
       "      <td>24.1</td>\n",
       "      <td>27.3</td>\n",
       "      <td>24.1</td>\n",
       "      <td>27.3</td>\n",
       "      <td>23.4</td>\n",
       "      <td>25.7</td>\n",
       "      <td>4</td>\n",
       "      <td>5</td>\n",
       "      <td>2020</td>\n",
       "      <td>2020</td>\n",
       "      <td>12</td>\n",
       "    </tr>\n",
       "    <tr>\n",
       "      <th>3</th>\n",
       "      <td>1.0</td>\n",
       "      <td>1</td>\n",
       "      <td>23.3</td>\n",
       "      <td>26.2</td>\n",
       "      <td>23.3</td>\n",
       "      <td>26.2</td>\n",
       "      <td>23.4</td>\n",
       "      <td>25.7</td>\n",
       "      <td>4</td>\n",
       "      <td>5</td>\n",
       "      <td>2020</td>\n",
       "      <td>2020</td>\n",
       "      <td>12</td>\n",
       "    </tr>\n",
       "    <tr>\n",
       "      <th>4</th>\n",
       "      <td>1.0</td>\n",
       "      <td>1</td>\n",
       "      <td>21.5</td>\n",
       "      <td>25.0</td>\n",
       "      <td>21.5</td>\n",
       "      <td>25.0</td>\n",
       "      <td>23.4</td>\n",
       "      <td>25.7</td>\n",
       "      <td>4</td>\n",
       "      <td>5</td>\n",
       "      <td>2020</td>\n",
       "      <td>2020</td>\n",
       "      <td>12</td>\n",
       "    </tr>\n",
       "  </tbody>\n",
       "</table>\n",
       "</div>"
      ],
      "text/plain": [
       "   Phase  Time Period  Low CI  High CI  CI_Low  CI_High  QR_Low  QR_High  \\\n",
       "0    1.0            1    22.7     24.3    22.7     24.3    23.4     25.7   \n",
       "1    1.0            1    30.2     35.2    30.2     35.2    23.4     25.7   \n",
       "2    1.0            1    24.1     27.3    24.1     27.3    23.4     25.7   \n",
       "3    1.0            1    23.3     26.2    23.3     26.2    23.4     25.7   \n",
       "4    1.0            1    21.5     25.0    21.5     25.0    23.4     25.7   \n",
       "\n",
       "   Start Month  End Month  Start Year  End Year  Duration  \n",
       "0            4          5        2020      2020        12  \n",
       "1            4          5        2020      2020        12  \n",
       "2            4          5        2020      2020        12  \n",
       "3            4          5        2020      2020        12  \n",
       "4            4          5        2020      2020        12  "
      ]
     },
     "execution_count": 39,
     "metadata": {},
     "output_type": "execute_result"
    }
   ],
   "source": [
    "X.head()"
   ]
  },
  {
   "cell_type": "code",
   "execution_count": 40,
   "id": "141d4b7f",
   "metadata": {},
   "outputs": [],
   "source": [
    "#Split X and y into training and test set in 75:25 ratio\n",
    "from sklearn.model_selection import train_test_split\n",
    "X_train, X_test, y_train, y_test = train_test_split(X, y, test_size = 0.25, random_state = 1)"
   ]
  },
  {
   "cell_type": "markdown",
   "id": "5b0d498a",
   "metadata": {},
   "source": [
    "#### Linear Regression Model"
   ]
  },
  {
   "cell_type": "code",
   "execution_count": 41,
   "id": "10cb437f",
   "metadata": {},
   "outputs": [
    {
     "data": {
      "text/plain": [
       "LinearRegression()"
      ]
     },
     "execution_count": 41,
     "metadata": {},
     "output_type": "execute_result"
    }
   ],
   "source": [
    "from sklearn.linear_model import LinearRegression\n",
    "#invoke the Linear Regression Function and find the bestfit model on training data\n",
    "regression_model  = LinearRegression()\n",
    "regression_model.fit(X_train, y_train)"
   ]
  },
  {
   "cell_type": "code",
   "execution_count": 42,
   "id": "4ce98b46",
   "metadata": {},
   "outputs": [
    {
     "name": "stdout",
     "output_type": "stream",
     "text": [
      "The coefficient for Phase is -0.007496896535691921\n",
      "The coefficient for Time Period is 0.0007881199944139908\n",
      "The coefficient for Low CI is 40648597332.15885\n",
      "The coefficient for High CI is -64387960043.516525\n",
      "The coefficient for CI_Low is -40648597331.63146\n",
      "The coefficient for CI_High is 64387960043.998505\n",
      "The coefficient for QR_Low is 0.0035740796755619987\n",
      "The coefficient for QR_High is -0.0024260097858375294\n",
      "The coefficient for Start Month is -0.0037741092871630844\n",
      "The coefficient for End Month is 0.003025322777999159\n",
      "The coefficient for Start Year is -0.052614239139867784\n",
      "The coefficient for End Year is 0.05163273419740409\n",
      "The coefficient for Duration is 0.0005907233846027566\n"
     ]
    }
   ],
   "source": [
    "# Let us explore the coefficients for each of the independent attributes\n",
    "for idx, col_names in enumerate(X_train.columns):\n",
    "    print(\"The coefficient for {} is {}\".format(col_names, regression_model.coef_[0][idx]))"
   ]
  },
  {
   "cell_type": "code",
   "execution_count": 43,
   "id": "a3b28b84",
   "metadata": {},
   "outputs": [
    {
     "name": "stdout",
     "output_type": "stream",
     "text": [
      "The intercept for our model is 1.723307222363207\n"
     ]
    }
   ],
   "source": [
    "#Let us check the intercept for the model\n",
    "intercept = regression_model.intercept_[0]\n",
    "\n",
    "print(\"The intercept for our model is {}\".format(intercept))"
   ]
  },
  {
   "cell_type": "code",
   "execution_count": 44,
   "id": "98a77051",
   "metadata": {},
   "outputs": [
    {
     "data": {
      "text/plain": [
       "0.9999003051534073"
      ]
     },
     "execution_count": 44,
     "metadata": {},
     "output_type": "execute_result"
    }
   ],
   "source": [
    "#R square on training data\n",
    "regression_model.score(X_train, y_train)"
   ]
  },
  {
   "cell_type": "code",
   "execution_count": 45,
   "id": "f3d9dc5b",
   "metadata": {},
   "outputs": [
    {
     "data": {
      "text/plain": [
       "0.999916584410877"
      ]
     },
     "execution_count": 45,
     "metadata": {},
     "output_type": "execute_result"
    }
   ],
   "source": [
    "#R square on testing data\n",
    "regression_model.score(X_test, y_test)"
   ]
  },
  {
   "cell_type": "code",
   "execution_count": 46,
   "id": "0b647bb5",
   "metadata": {},
   "outputs": [
    {
     "data": {
      "text/plain": [
       "0.08155362417159359"
      ]
     },
     "execution_count": 46,
     "metadata": {},
     "output_type": "execute_result"
    }
   ],
   "source": [
    "from sklearn import metrics\n",
    "#RMSE on training data\n",
    "predicted_train = regression_model.fit(X_train, y_train).predict(X_train)\n",
    "np.sqrt(metrics.mean_squared_error(y_train, predicted_train))"
   ]
  },
  {
   "cell_type": "code",
   "execution_count": 47,
   "id": "26d68dcb",
   "metadata": {},
   "outputs": [
    {
     "data": {
      "text/plain": [
       "0.07099532644157217"
      ]
     },
     "execution_count": 47,
     "metadata": {},
     "output_type": "execute_result"
    }
   ],
   "source": [
    "#RMSE on testing data \n",
    "predicted_test = regression_model.fit(X_train, y_train).predict(X_test)\n",
    "np.sqrt(metrics.mean_squared_error(y_test, predicted_test))"
   ]
  },
  {
   "cell_type": "markdown",
   "id": "96bcf9f8",
   "metadata": {},
   "source": [
    "#### Finding whether the model is overfitting "
   ]
  },
  {
   "cell_type": "code",
   "execution_count": 48,
   "id": "239c50b8",
   "metadata": {},
   "outputs": [],
   "source": [
    "from sklearn.model_selection import cross_val_score, KFold\n",
    "from sklearn.linear_model import LinearRegression\n",
    "#Choose the number of folds(k)\n",
    "k = 5"
   ]
  },
  {
   "cell_type": "code",
   "execution_count": 49,
   "id": "8a67f81b",
   "metadata": {},
   "outputs": [],
   "source": [
    "#Create a k-fold cross-validation object\n",
    "kf = KFold(n_splits = k, shuffle = True, random_state = 42)\n",
    "\n",
    "#perform cross validation \n",
    "cv_results = cross_val_score(regression_model, X,y, cv= kf, scoring = 'r2')\n",
    "\n"
   ]
  },
  {
   "cell_type": "code",
   "execution_count": 50,
   "id": "ad873bfe",
   "metadata": {},
   "outputs": [
    {
     "name": "stdout",
     "output_type": "stream",
     "text": [
      "Fold 1: R-squared=0.99990675924143\n",
      "Fold 2: R-squared=0.9999118097584824\n",
      "Fold 3: R-squared=0.9999027506087671\n",
      "Fold 4: R-squared=0.9999034110508525\n",
      "Fold 5: R-squared=0.9998948422478527\n"
     ]
    }
   ],
   "source": [
    "#Print the R-squared values for each fold\n",
    "for i, r2 in enumerate(cv_results, 1):\n",
    "    print(f'Fold {i}: R-squared={r2}')\n",
    "    \n"
   ]
  },
  {
   "cell_type": "code",
   "execution_count": 51,
   "id": "175e35d8",
   "metadata": {},
   "outputs": [
    {
     "name": "stdout",
     "output_type": "stream",
     "text": [
      "Mean R-squared across all folds: 0.999903914581477\n"
     ]
    }
   ],
   "source": [
    "#Calculate and print the mean R-squared across all folds\n",
    "mean_r2 = np.mean(cv_results)\n",
    "print(f'Mean R-squared across all folds: {mean_r2}')"
   ]
  },
  {
   "cell_type": "code",
   "execution_count": 52,
   "id": "abb23b21",
   "metadata": {},
   "outputs": [
    {
     "data": {
      "text/plain": [
       "Lasso(alpha=0.05)"
      ]
     },
     "execution_count": 52,
     "metadata": {},
     "output_type": "execute_result"
    }
   ],
   "source": [
    "from sklearn.linear_model import Lasso, Ridge\n",
    "\n",
    "# Lasso Regression (L1 Regularization)\n",
    "lasso_model = Lasso(alpha=0.05)  # You can adjust the alpha parameter\n",
    "lasso_model.fit(X_train, y_train)"
   ]
  },
  {
   "cell_type": "code",
   "execution_count": 53,
   "id": "4aafb22e",
   "metadata": {},
   "outputs": [
    {
     "name": "stdout",
     "output_type": "stream",
     "text": [
      "Lasso Coefficients: [ 0.00000000e+00  4.17412010e-05  5.27433728e-01  4.66910912e-01\n",
      "  0.00000000e+00  1.45507476e-02  0.00000000e+00  0.00000000e+00\n",
      " -0.00000000e+00 -0.00000000e+00  0.00000000e+00  0.00000000e+00\n",
      "  0.00000000e+00]\n"
     ]
    }
   ],
   "source": [
    "# Print coefficients\n",
    "print(\"Lasso Coefficients:\", lasso_model.coef_)"
   ]
  },
  {
   "cell_type": "code",
   "execution_count": 54,
   "id": "6b31e490",
   "metadata": {},
   "outputs": [
    {
     "name": "stdout",
     "output_type": "stream",
     "text": [
      "Lasso R-squared on Training Data: 0.9998972135936223\n"
     ]
    }
   ],
   "source": [
    "# R-squared on training data\n",
    "lasso_train_r2 = lasso_model.score(X_train, y_train)\n",
    "print(\"Lasso R-squared on Training Data:\", lasso_train_r2)"
   ]
  },
  {
   "cell_type": "code",
   "execution_count": 55,
   "id": "d9bebcce",
   "metadata": {},
   "outputs": [
    {
     "name": "stdout",
     "output_type": "stream",
     "text": [
      "Lasso R-squared on Testing Data: 0.9999152764934904\n"
     ]
    }
   ],
   "source": [
    "# R-squared on testing data\n",
    "lasso_test_r2 = lasso_model.score(X_test, y_test)\n",
    "print(\"Lasso R-squared on Testing Data:\", lasso_test_r2)"
   ]
  },
  {
   "cell_type": "code",
   "execution_count": 56,
   "id": "5ec01cc2",
   "metadata": {},
   "outputs": [
    {
     "name": "stdout",
     "output_type": "stream",
     "text": [
      "Lasso Mean Squared Error on Testing Data: 0.005119366491304319\n"
     ]
    }
   ],
   "source": [
    "# Mean Squared Error on testing data\n",
    "lasso_test_mse = metrics.mean_squared_error(y_test, lasso_model.predict(X_test))\n",
    "print(\"Lasso Mean Squared Error on Testing Data:\", lasso_test_mse)"
   ]
  },
  {
   "cell_type": "code",
   "execution_count": 57,
   "id": "8bca2f0e",
   "metadata": {},
   "outputs": [
    {
     "data": {
      "text/plain": [
       "Ridge(alpha=0.01)"
      ]
     },
     "execution_count": 57,
     "metadata": {},
     "output_type": "execute_result"
    }
   ],
   "source": [
    "# Ridge Regression (L2 Regularization)\n",
    "ridge_model = Ridge(alpha=0.01)  # You can adjust the alpha parameter\n",
    "ridge_model.fit(X_train, y_train)"
   ]
  },
  {
   "cell_type": "code",
   "execution_count": 58,
   "id": "3f169c03",
   "metadata": {},
   "outputs": [
    {
     "name": "stdout",
     "output_type": "stream",
     "text": [
      "Ridge Coefficients: [[-0.00753988  0.00079268  0.56214973  0.42942493 -0.03475806  0.05259255\n",
      "   0.0035638  -0.00242256 -0.00375386  0.0029921  -0.05234885  0.05134453\n",
      "   0.00057724]]\n"
     ]
    }
   ],
   "source": [
    "# Print coefficients\n",
    "print(\"Ridge Coefficients:\", ridge_model.coef_)"
   ]
  },
  {
   "cell_type": "code",
   "execution_count": 59,
   "id": "ca793ef2",
   "metadata": {},
   "outputs": [
    {
     "name": "stdout",
     "output_type": "stream",
     "text": [
      "Ridge R-squared on Training Data: 0.9999003217297521\n"
     ]
    }
   ],
   "source": [
    "# R-squared on training data\n",
    "ridge_train_r2 = ridge_model.score(X_train, y_train)\n",
    "print(\"Ridge R-squared on Training Data:\", ridge_train_r2)"
   ]
  },
  {
   "cell_type": "code",
   "execution_count": 60,
   "id": "b1d21afa",
   "metadata": {},
   "outputs": [
    {
     "name": "stdout",
     "output_type": "stream",
     "text": [
      "Ridge R-squared on Testing Data: 0.99991656066406\n"
     ]
    }
   ],
   "source": [
    "# R-squared on testing data\n",
    "ridge_test_r2 = ridge_model.score(X_test, y_test)\n",
    "print(\"Ridge R-squared on Testing Data:\", ridge_test_r2)"
   ]
  },
  {
   "cell_type": "code",
   "execution_count": 61,
   "id": "4ecd66c2",
   "metadata": {},
   "outputs": [
    {
     "name": "stdout",
     "output_type": "stream",
     "text": [
      "Ridge Mean Squared Error on Testing Data: 0.005041771263560116\n"
     ]
    }
   ],
   "source": [
    "# Mean Squared Error on testing data\n",
    "ridge_test_mse = metrics.mean_squared_error(y_test, ridge_model.predict(X_test))\n",
    "print(\"Ridge Mean Squared Error on Testing Data:\", ridge_test_mse)"
   ]
  },
  {
   "cell_type": "markdown",
   "id": "c3230de9",
   "metadata": {},
   "source": [
    "### Hyperparameter Tuning"
   ]
  },
  {
   "cell_type": "code",
   "execution_count": 69,
   "id": "9b405f50",
   "metadata": {},
   "outputs": [],
   "source": [
    "from sklearn.model_selection import GridSearchCV\n",
    "from sklearn.linear_model import Ridge\n",
    "from sklearn.model_selection import train_test_split\n",
    "from sklearn.metrics import r2_score, mean_squared_error "
   ]
  },
  {
   "cell_type": "code",
   "execution_count": 63,
   "id": "4109c6d3",
   "metadata": {},
   "outputs": [],
   "source": [
    "#X and Y are your feature matrix and target variable\n",
    "X_train, X_test, y_train, y_test = train_test_split(X, y, test_size = 0.2, random_state = 42)\n",
    "\n",
    "#Define the Ridge Regression model\n",
    "ridge_model = Ridge()\n",
    "\n",
    "#Define the hyperparameters and their possible values to search\n",
    "param_grid = {\n",
    "    'alpha' : [0.001, 0.01, 0.1, 1, 10, 100]\n",
    "}\n",
    "\n"
   ]
  },
  {
   "cell_type": "code",
   "execution_count": 64,
   "id": "d0a4d3cc",
   "metadata": {},
   "outputs": [
    {
     "name": "stdout",
     "output_type": "stream",
     "text": [
      "Best Hyperarameters:  {'alpha': 1}\n"
     ]
    }
   ],
   "source": [
    "#Create the GridSearchCV object\n",
    "grid_search = GridSearchCV(ridge_model, param_grid, cv = 5, scoring = 'neg_mean_squared_error')\n",
    "\n",
    "#Fit the grid search to the data\n",
    "grid_search.fit(X_train, y_train)\n",
    "\n",
    "#Print the best hyperparameters\n",
    "print(\"Best Hyperarameters: \", grid_search.best_params_)\n",
    "\n"
   ]
  },
  {
   "cell_type": "code",
   "execution_count": 66,
   "id": "d4a9202e",
   "metadata": {},
   "outputs": [],
   "source": [
    "#Get the best Ridge model\n",
    "best_ridge_model = grid_search.best_estimator_\n",
    "\n"
   ]
  },
  {
   "cell_type": "code",
   "execution_count": 70,
   "id": "acfe7b19",
   "metadata": {},
   "outputs": [
    {
     "name": "stdout",
     "output_type": "stream",
     "text": [
      "R-squared on test data: 0.9999067430018235\n",
      "Mean Squared Error on test data: 0.0058316113694893475\n"
     ]
    }
   ],
   "source": [
    "# Evaluate the best model on the test set\n",
    "test_predictions = best_ridge_model.predict(X_test)\n",
    "test_r2 = r2_score(y_test, test_predictions)\n",
    "test_mse = mean_squared_error(y_test, test_predictions)\n",
    "\n",
    "print(f'R-squared on test data: {test_r2}')\n",
    "print(f'Mean Squared Error on test data: {test_mse}')\n"
   ]
  },
  {
   "cell_type": "markdown",
   "id": "0301e159",
   "metadata": {},
   "source": [
    "### Building the Final Model"
   ]
  },
  {
   "cell_type": "code",
   "execution_count": 73,
   "id": "f91b0bec",
   "metadata": {},
   "outputs": [
    {
     "name": "stdout",
     "output_type": "stream",
     "text": [
      "Final R-squared on test data: 0.9999067421704773\n",
      "Final Mean Squared Error on test data: 0.005831663355806985\n"
     ]
    }
   ],
   "source": [
    "# Use the best hyperparameters\n",
    "best_alpha = 0.01\n",
    "final_ridge_model = Ridge(alpha=best_alpha)\n",
    "\n",
    "# Fit the model on the entire training dataset\n",
    "final_ridge_model.fit(X_train, y_train)\n",
    "\n",
    "# Evaluate the final model on the test set\n",
    "test_predictions = final_ridge_model.predict(X_test)\n",
    "test_r2 = r2_score(y_test, test_predictions)   \n",
    "test_mse = mean_squared_error(y_test, test_predictions)\n",
    "\n",
    "print(f'Final R-squared on test data: {test_r2}')\n",
    "print(f'Final Mean Squared Error on test data: {test_mse}')\n"
   ]
  },
  {
   "cell_type": "markdown",
   "id": "d4cd8996",
   "metadata": {},
   "source": [
    "**The final Ridge model, after hyperparameter tuning, has a slightly lower R-squared but is still very close to the original Ridge model. Additionally, the mean squared error is comparable. Therefore, the difference in performance is likely marginal.**\n",
    "\n",
    "**In conclusion, the Ridge regression model after hyperparameter tuning is likely the best choice, as it has been fine-tuned and still performs very well on the test data. However, keep in mind that the differences are small, and it's essential to consider other factors such as interpretability, computational cost, and the specific requirements of your problem when choosing a final model.**"
   ]
  }
 ],
 "metadata": {
  "kernelspec": {
   "display_name": "Python 3 (ipykernel)",
   "language": "python",
   "name": "python3"
  },
  "language_info": {
   "codemirror_mode": {
    "name": "ipython",
    "version": 3
   },
   "file_extension": ".py",
   "mimetype": "text/x-python",
   "name": "python",
   "nbconvert_exporter": "python",
   "pygments_lexer": "ipython3",
   "version": "3.9.13"
  }
 },
 "nbformat": 4,
 "nbformat_minor": 5
}

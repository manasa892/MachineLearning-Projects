{
 "cells": [
  {
   "cell_type": "markdown",
   "id": "5c26b033",
   "metadata": {},
   "source": [
    "#### Real Estate Across the United States (REXUS) Inventory (Building)\n",
    "\n",
    "**Real Estate Across the United States (REXUS) is the primary tool used by PBS to track and manage the government's real property assets and to store inventory data, building data, customer data, and lease information. STAR manages aspects of real property space management, including identification of all building space and daily management of 22,000 assignments for all property to its client Federal agencies. This data set contains PBS building inventory that consists of both owned and leased buildings with active and excess status.**"
   ]
  },
  {
   "cell_type": "markdown",
   "id": "e6d3732b",
   "metadata": {},
   "source": [
    "**Data Dictionary**\n",
    "\n",
    "**Location Code :** A code representing the location of the building.\n",
    "\n",
    "**Region Code :** Code representing the region where the building is located.\n",
    "\n",
    "**Bldg Address1:** Street address of the building.\n",
    "\n",
    "**Bldg Address2:** Additional address information (if any).\n",
    "\n",
    "**Bldg City:** City where the building is located.\n",
    "\n",
    "**Bldg County:** County where the building is located.\n",
    "\n",
    "**Bldg State:** State where the building is located.\n",
    "\n",
    "**Bldg Zip:** ZIP code of the building's location.\n",
    "\n",
    "**Congressional District:** Congressional district associated with the building's location.\n",
    "\n",
    "**Bldg Status:** Indicates whether the building is active.\n",
    "\n",
    "**Property Type:** Type of property (e.g., Building, Structure).\n",
    "\n",
    "**Bldg ANSI Usable:** Usable area of the building according to ANSI standards.\n",
    "\n",
    "**Total Parking Spaces:** Total parking spaces associated with the building.\n",
    "\n",
    "**Owned/Leased:** Indicates whether the building is owned or leased.\n",
    "\n",
    "**Construction Date:** Date when the building was constructed.\n",
    "\n",
    "**Historical Type:** Type of historical designation.\n",
    "\n",
    "**Historical Status:** Historical status of the building.\n",
    "\n",
    "**ABA Accessibility Flag:** Flag indicating ABA (Architectural Barriers Act) accessibility."
   ]
  },
  {
   "cell_type": "code",
   "execution_count": 1,
   "id": "f554e933",
   "metadata": {},
   "outputs": [],
   "source": [
    "#Importing Libraries\n",
    "import pandas as pd \n",
    "import numpy as np\n",
    "import matplotlib.pyplot as plt\n",
    "import seaborn as sns\n",
    "%matplotlib inline\n",
    "from sklearn.linear_model import LogisticRegression\n",
    "from sklearn.tree import DecisionTreeClassifier\n",
    "from sklearn.ensemble import RandomForestClassifier\n",
    "#Support vector classifier\n",
    "from sklearn.svm import SVC\n",
    "from sklearn.preprocessing import LabelEncoder\n",
    "from sklearn import metrics\n",
    "from sklearn.model_selection import train_test_split, GridSearchCV\n",
    "from sklearn.metrics import roc_auc_score, roc_curve, classification_report, confusion_matrix, plot_confusion_matrix"
   ]
  },
  {
   "cell_type": "code",
   "execution_count": 2,
   "id": "eff978b3",
   "metadata": {},
   "outputs": [],
   "source": [
    "df = pd.read_csv(\"data_gov_bldg_rexus_new.csv\")"
   ]
  },
  {
   "cell_type": "code",
   "execution_count": 3,
   "id": "3e9a3c95",
   "metadata": {},
   "outputs": [
    {
     "data": {
      "text/html": [
       "<div>\n",
       "<style scoped>\n",
       "    .dataframe tbody tr th:only-of-type {\n",
       "        vertical-align: middle;\n",
       "    }\n",
       "\n",
       "    .dataframe tbody tr th {\n",
       "        vertical-align: top;\n",
       "    }\n",
       "\n",
       "    .dataframe thead th {\n",
       "        text-align: right;\n",
       "    }\n",
       "</style>\n",
       "<table border=\"1\" class=\"dataframe\">\n",
       "  <thead>\n",
       "    <tr style=\"text-align: right;\">\n",
       "      <th></th>\n",
       "      <th>Location Code</th>\n",
       "      <th>Region Code</th>\n",
       "      <th>Bldg Address1</th>\n",
       "      <th>Bldg Address2</th>\n",
       "      <th>Bldg City</th>\n",
       "      <th>Bldg County</th>\n",
       "      <th>Bldg State</th>\n",
       "      <th>Bldg Zip</th>\n",
       "      <th>Congressional District</th>\n",
       "      <th>Bldg Status</th>\n",
       "      <th>Property Type</th>\n",
       "      <th>Bldg ANSI Usable</th>\n",
       "      <th>Total Parking Spaces</th>\n",
       "      <th>Owned/Leased</th>\n",
       "      <th>Construction Date</th>\n",
       "      <th>Historical Type</th>\n",
       "      <th>Historical Status</th>\n",
       "      <th>ABA Accessibility Flag</th>\n",
       "    </tr>\n",
       "  </thead>\n",
       "  <tbody>\n",
       "    <tr>\n",
       "      <th>0</th>\n",
       "      <td>CT0013</td>\n",
       "      <td>1</td>\n",
       "      <td>135 HIGH ST</td>\n",
       "      <td></td>\n",
       "      <td>HARTFORD</td>\n",
       "      <td>HARTFORD</td>\n",
       "      <td>CT</td>\n",
       "      <td>61031125</td>\n",
       "      <td></td>\n",
       "      <td>ACTIVE</td>\n",
       "      <td>BUILDING</td>\n",
       "      <td>93394</td>\n",
       "      <td>28</td>\n",
       "      <td>OWNED</td>\n",
       "      <td>01 January 1933</td>\n",
       "      <td>Field Not In Use</td>\n",
       "      <td>National Register Listed</td>\n",
       "      <td>Will Conform</td>\n",
       "    </tr>\n",
       "    <tr>\n",
       "      <th>1</th>\n",
       "      <td>CT0024</td>\n",
       "      <td>1</td>\n",
       "      <td>141 CHURCH ST</td>\n",
       "      <td>U.S. COURTHOUSE</td>\n",
       "      <td>NEW HAVEN</td>\n",
       "      <td>NEW HAVEN</td>\n",
       "      <td>CT</td>\n",
       "      <td>65102001</td>\n",
       "      <td></td>\n",
       "      <td>ACTIVE</td>\n",
       "      <td>BUILDING</td>\n",
       "      <td>67174</td>\n",
       "      <td>0</td>\n",
       "      <td>OWNED</td>\n",
       "      <td>01 January 1919</td>\n",
       "      <td>Field Not In Use</td>\n",
       "      <td>National Register Listed</td>\n",
       "      <td>Will Conform</td>\n",
       "    </tr>\n",
       "    <tr>\n",
       "      <th>2</th>\n",
       "      <td>CT0047</td>\n",
       "      <td>1</td>\n",
       "      <td>135 GRAND ST</td>\n",
       "      <td></td>\n",
       "      <td>WATERBURY</td>\n",
       "      <td>NEW HAVEN</td>\n",
       "      <td>CT</td>\n",
       "      <td>67029998</td>\n",
       "      <td></td>\n",
       "      <td>ACTIVE</td>\n",
       "      <td>BUILDING</td>\n",
       "      <td>269</td>\n",
       "      <td>0</td>\n",
       "      <td>LEASED</td>\n",
       "      <td>01 January 1933</td>\n",
       "      <td>Field Not In Use</td>\n",
       "      <td>National Register Listed</td>\n",
       "      <td>Will Conform</td>\n",
       "    </tr>\n",
       "    <tr>\n",
       "      <th>3</th>\n",
       "      <td>CT0053</td>\n",
       "      <td>1</td>\n",
       "      <td>450 MAIN ST</td>\n",
       "      <td></td>\n",
       "      <td>HARTFORD</td>\n",
       "      <td>HARTFORD</td>\n",
       "      <td>CT</td>\n",
       "      <td>61031804</td>\n",
       "      <td></td>\n",
       "      <td>ACTIVE</td>\n",
       "      <td>BUILDING</td>\n",
       "      <td>197999</td>\n",
       "      <td>105</td>\n",
       "      <td>OWNED</td>\n",
       "      <td>01 January 1963</td>\n",
       "      <td>Field Not In Use</td>\n",
       "      <td></td>\n",
       "      <td>Will Conform</td>\n",
       "    </tr>\n",
       "    <tr>\n",
       "      <th>4</th>\n",
       "      <td>CT0059</td>\n",
       "      <td>1</td>\n",
       "      <td>915 LAFAYETTE BLVD</td>\n",
       "      <td></td>\n",
       "      <td>BRIDGEPORT</td>\n",
       "      <td>FAIRFIELD</td>\n",
       "      <td>CT</td>\n",
       "      <td>66044706</td>\n",
       "      <td></td>\n",
       "      <td>ACTIVE</td>\n",
       "      <td>BUILDING</td>\n",
       "      <td>85551</td>\n",
       "      <td>131</td>\n",
       "      <td>OWNED</td>\n",
       "      <td>01 January 1967</td>\n",
       "      <td>Field Not In Use</td>\n",
       "      <td></td>\n",
       "      <td>Will Conform</td>\n",
       "    </tr>\n",
       "  </tbody>\n",
       "</table>\n",
       "</div>"
      ],
      "text/plain": [
       "  Location Code  Region Code       Bldg Address1    Bldg Address2   Bldg City  \\\n",
       "0        CT0013            1         135 HIGH ST                     HARTFORD   \n",
       "1        CT0024            1       141 CHURCH ST  U.S. COURTHOUSE   NEW HAVEN   \n",
       "2        CT0047            1        135 GRAND ST                    WATERBURY   \n",
       "3        CT0053            1         450 MAIN ST                     HARTFORD   \n",
       "4        CT0059            1  915 LAFAYETTE BLVD                   BRIDGEPORT   \n",
       "\n",
       "  Bldg County Bldg State  Bldg Zip Congressional District Bldg Status  \\\n",
       "0    HARTFORD         CT  61031125                             ACTIVE   \n",
       "1   NEW HAVEN         CT  65102001                             ACTIVE   \n",
       "2   NEW HAVEN         CT  67029998                             ACTIVE   \n",
       "3    HARTFORD         CT  61031804                             ACTIVE   \n",
       "4   FAIRFIELD         CT  66044706                             ACTIVE   \n",
       "\n",
       "  Property Type  Bldg ANSI Usable  Total Parking Spaces Owned/Leased  \\\n",
       "0      BUILDING             93394                    28        OWNED   \n",
       "1      BUILDING             67174                     0        OWNED   \n",
       "2      BUILDING               269                     0       LEASED   \n",
       "3      BUILDING            197999                   105        OWNED   \n",
       "4      BUILDING             85551                   131        OWNED   \n",
       "\n",
       "  Construction Date   Historical Type         Historical Status  \\\n",
       "0   01 January 1933  Field Not In Use  National Register Listed   \n",
       "1   01 January 1919  Field Not In Use  National Register Listed   \n",
       "2   01 January 1933  Field Not In Use  National Register Listed   \n",
       "3   01 January 1963  Field Not In Use                             \n",
       "4   01 January 1967  Field Not In Use                             \n",
       "\n",
       "  ABA Accessibility Flag   \n",
       "0            Will Conform  \n",
       "1            Will Conform  \n",
       "2            Will Conform  \n",
       "3            Will Conform  \n",
       "4            Will Conform  "
      ]
     },
     "execution_count": 3,
     "metadata": {},
     "output_type": "execute_result"
    }
   ],
   "source": [
    "df.head()"
   ]
  },
  {
   "cell_type": "code",
   "execution_count": 4,
   "id": "40a1e651",
   "metadata": {},
   "outputs": [
    {
     "data": {
      "text/plain": [
       "(8793, 18)"
      ]
     },
     "execution_count": 4,
     "metadata": {},
     "output_type": "execute_result"
    }
   ],
   "source": [
    "df.shape"
   ]
  },
  {
   "cell_type": "code",
   "execution_count": 5,
   "id": "184b5aba",
   "metadata": {},
   "outputs": [
    {
     "name": "stdout",
     "output_type": "stream",
     "text": [
      "<class 'pandas.core.frame.DataFrame'>\n",
      "RangeIndex: 8793 entries, 0 to 8792\n",
      "Data columns (total 18 columns):\n",
      " #   Column                   Non-Null Count  Dtype \n",
      "---  ------                   --------------  ----- \n",
      " 0   Location Code            8793 non-null   object\n",
      " 1   Region Code              8793 non-null   int64 \n",
      " 2   Bldg Address1            8793 non-null   object\n",
      " 3   Bldg Address2            8791 non-null   object\n",
      " 4   Bldg City                8793 non-null   object\n",
      " 5   Bldg County              8793 non-null   object\n",
      " 6   Bldg State               8793 non-null   object\n",
      " 7   Bldg Zip                 8793 non-null   int64 \n",
      " 8   Congressional District   8793 non-null   object\n",
      " 9   Bldg Status              8793 non-null   object\n",
      " 10  Property Type            8793 non-null   object\n",
      " 11  Bldg ANSI Usable         8793 non-null   int64 \n",
      " 12  Total Parking Spaces     8793 non-null   int64 \n",
      " 13  Owned/Leased             8793 non-null   object\n",
      " 14  Construction Date        8793 non-null   object\n",
      " 15  Historical Type          8793 non-null   object\n",
      " 16  Historical Status        8793 non-null   object\n",
      " 17  ABA Accessibility Flag   8793 non-null   object\n",
      "dtypes: int64(4), object(14)\n",
      "memory usage: 1.2+ MB\n"
     ]
    }
   ],
   "source": [
    "df.info()"
   ]
  },
  {
   "cell_type": "code",
   "execution_count": 6,
   "id": "138424cf",
   "metadata": {},
   "outputs": [
    {
     "data": {
      "text/html": [
       "<div>\n",
       "<style scoped>\n",
       "    .dataframe tbody tr th:only-of-type {\n",
       "        vertical-align: middle;\n",
       "    }\n",
       "\n",
       "    .dataframe tbody tr th {\n",
       "        vertical-align: top;\n",
       "    }\n",
       "\n",
       "    .dataframe thead th {\n",
       "        text-align: right;\n",
       "    }\n",
       "</style>\n",
       "<table border=\"1\" class=\"dataframe\">\n",
       "  <thead>\n",
       "    <tr style=\"text-align: right;\">\n",
       "      <th></th>\n",
       "      <th>count</th>\n",
       "      <th>unique</th>\n",
       "      <th>top</th>\n",
       "      <th>freq</th>\n",
       "      <th>mean</th>\n",
       "      <th>std</th>\n",
       "      <th>min</th>\n",
       "      <th>25%</th>\n",
       "      <th>50%</th>\n",
       "      <th>75%</th>\n",
       "      <th>max</th>\n",
       "    </tr>\n",
       "  </thead>\n",
       "  <tbody>\n",
       "    <tr>\n",
       "      <th>Location Code</th>\n",
       "      <td>8793</td>\n",
       "      <td>8793</td>\n",
       "      <td>CT0013</td>\n",
       "      <td>1</td>\n",
       "      <td>NaN</td>\n",
       "      <td>NaN</td>\n",
       "      <td>NaN</td>\n",
       "      <td>NaN</td>\n",
       "      <td>NaN</td>\n",
       "      <td>NaN</td>\n",
       "      <td>NaN</td>\n",
       "    </tr>\n",
       "    <tr>\n",
       "      <th>Region Code</th>\n",
       "      <td>8793.0</td>\n",
       "      <td>NaN</td>\n",
       "      <td>NaN</td>\n",
       "      <td>NaN</td>\n",
       "      <td>6.198112</td>\n",
       "      <td>2.887701</td>\n",
       "      <td>1.0</td>\n",
       "      <td>4.0</td>\n",
       "      <td>6.0</td>\n",
       "      <td>9.0</td>\n",
       "      <td>11.0</td>\n",
       "    </tr>\n",
       "    <tr>\n",
       "      <th>Bldg Address1</th>\n",
       "      <td>8793</td>\n",
       "      <td>7727</td>\n",
       "      <td>2701 MARTIN LUTHER KING JR AVE SE</td>\n",
       "      <td>56</td>\n",
       "      <td>NaN</td>\n",
       "      <td>NaN</td>\n",
       "      <td>NaN</td>\n",
       "      <td>NaN</td>\n",
       "      <td>NaN</td>\n",
       "      <td>NaN</td>\n",
       "      <td>NaN</td>\n",
       "    </tr>\n",
       "    <tr>\n",
       "      <th>Bldg Address2</th>\n",
       "      <td>8791</td>\n",
       "      <td>535</td>\n",
       "      <td></td>\n",
       "      <td>8036</td>\n",
       "      <td>NaN</td>\n",
       "      <td>NaN</td>\n",
       "      <td>NaN</td>\n",
       "      <td>NaN</td>\n",
       "      <td>NaN</td>\n",
       "      <td>NaN</td>\n",
       "      <td>NaN</td>\n",
       "    </tr>\n",
       "    <tr>\n",
       "      <th>Bldg City</th>\n",
       "      <td>8793</td>\n",
       "      <td>1938</td>\n",
       "      <td>WASHINGTON</td>\n",
       "      <td>433</td>\n",
       "      <td>NaN</td>\n",
       "      <td>NaN</td>\n",
       "      <td>NaN</td>\n",
       "      <td>NaN</td>\n",
       "      <td>NaN</td>\n",
       "      <td>NaN</td>\n",
       "      <td>NaN</td>\n",
       "    </tr>\n",
       "    <tr>\n",
       "      <th>Bldg County</th>\n",
       "      <td>8793</td>\n",
       "      <td>934</td>\n",
       "      <td>DISTRICT OF COLUMBIA</td>\n",
       "      <td>431</td>\n",
       "      <td>NaN</td>\n",
       "      <td>NaN</td>\n",
       "      <td>NaN</td>\n",
       "      <td>NaN</td>\n",
       "      <td>NaN</td>\n",
       "      <td>NaN</td>\n",
       "      <td>NaN</td>\n",
       "    </tr>\n",
       "    <tr>\n",
       "      <th>Bldg State</th>\n",
       "      <td>8793</td>\n",
       "      <td>56</td>\n",
       "      <td>TX</td>\n",
       "      <td>877</td>\n",
       "      <td>NaN</td>\n",
       "      <td>NaN</td>\n",
       "      <td>NaN</td>\n",
       "      <td>NaN</td>\n",
       "      <td>NaN</td>\n",
       "      <td>NaN</td>\n",
       "      <td>NaN</td>\n",
       "    </tr>\n",
       "    <tr>\n",
       "      <th>Bldg Zip</th>\n",
       "      <td>8793.0</td>\n",
       "      <td>NaN</td>\n",
       "      <td>NaN</td>\n",
       "      <td>NaN</td>\n",
       "      <td>465004732.22552</td>\n",
       "      <td>324904513.742083</td>\n",
       "      <td>605.0</td>\n",
       "      <td>200162705.0</td>\n",
       "      <td>422404944.0</td>\n",
       "      <td>785216762.0</td>\n",
       "      <td>999019998.0</td>\n",
       "    </tr>\n",
       "    <tr>\n",
       "      <th>Congressional District</th>\n",
       "      <td>8793</td>\n",
       "      <td>3</td>\n",
       "      <td></td>\n",
       "      <td>8791</td>\n",
       "      <td>NaN</td>\n",
       "      <td>NaN</td>\n",
       "      <td>NaN</td>\n",
       "      <td>NaN</td>\n",
       "      <td>NaN</td>\n",
       "      <td>NaN</td>\n",
       "      <td>NaN</td>\n",
       "    </tr>\n",
       "    <tr>\n",
       "      <th>Bldg Status</th>\n",
       "      <td>8793</td>\n",
       "      <td>3</td>\n",
       "      <td>ACTIVE</td>\n",
       "      <td>8740</td>\n",
       "      <td>NaN</td>\n",
       "      <td>NaN</td>\n",
       "      <td>NaN</td>\n",
       "      <td>NaN</td>\n",
       "      <td>NaN</td>\n",
       "      <td>NaN</td>\n",
       "      <td>NaN</td>\n",
       "    </tr>\n",
       "    <tr>\n",
       "      <th>Property Type</th>\n",
       "      <td>8793</td>\n",
       "      <td>2</td>\n",
       "      <td>BUILDING</td>\n",
       "      <td>8435</td>\n",
       "      <td>NaN</td>\n",
       "      <td>NaN</td>\n",
       "      <td>NaN</td>\n",
       "      <td>NaN</td>\n",
       "      <td>NaN</td>\n",
       "      <td>NaN</td>\n",
       "      <td>NaN</td>\n",
       "    </tr>\n",
       "    <tr>\n",
       "      <th>Bldg ANSI Usable</th>\n",
       "      <td>8793.0</td>\n",
       "      <td>NaN</td>\n",
       "      <td>NaN</td>\n",
       "      <td>NaN</td>\n",
       "      <td>33925.81019</td>\n",
       "      <td>93305.167927</td>\n",
       "      <td>0.0</td>\n",
       "      <td>3053.0</td>\n",
       "      <td>8119.0</td>\n",
       "      <td>22218.0</td>\n",
       "      <td>1989117.0</td>\n",
       "    </tr>\n",
       "    <tr>\n",
       "      <th>Total Parking Spaces</th>\n",
       "      <td>8793.0</td>\n",
       "      <td>NaN</td>\n",
       "      <td>NaN</td>\n",
       "      <td>NaN</td>\n",
       "      <td>50.997839</td>\n",
       "      <td>179.739465</td>\n",
       "      <td>0.0</td>\n",
       "      <td>0.0</td>\n",
       "      <td>8.0</td>\n",
       "      <td>39.0</td>\n",
       "      <td>6198.0</td>\n",
       "    </tr>\n",
       "    <tr>\n",
       "      <th>Owned/Leased</th>\n",
       "      <td>8793</td>\n",
       "      <td>2</td>\n",
       "      <td>LEASED</td>\n",
       "      <td>6750</td>\n",
       "      <td>NaN</td>\n",
       "      <td>NaN</td>\n",
       "      <td>NaN</td>\n",
       "      <td>NaN</td>\n",
       "      <td>NaN</td>\n",
       "      <td>NaN</td>\n",
       "      <td>NaN</td>\n",
       "    </tr>\n",
       "    <tr>\n",
       "      <th>Construction Date</th>\n",
       "      <td>8793</td>\n",
       "      <td>1386</td>\n",
       "      <td>01 January 2000</td>\n",
       "      <td>4899</td>\n",
       "      <td>NaN</td>\n",
       "      <td>NaN</td>\n",
       "      <td>NaN</td>\n",
       "      <td>NaN</td>\n",
       "      <td>NaN</td>\n",
       "      <td>NaN</td>\n",
       "      <td>NaN</td>\n",
       "    </tr>\n",
       "    <tr>\n",
       "      <th>Historical Type</th>\n",
       "      <td>8793</td>\n",
       "      <td>1</td>\n",
       "      <td>Field Not In Use</td>\n",
       "      <td>8793</td>\n",
       "      <td>NaN</td>\n",
       "      <td>NaN</td>\n",
       "      <td>NaN</td>\n",
       "      <td>NaN</td>\n",
       "      <td>NaN</td>\n",
       "      <td>NaN</td>\n",
       "      <td>NaN</td>\n",
       "    </tr>\n",
       "    <tr>\n",
       "      <th>Historical Status</th>\n",
       "      <td>8793</td>\n",
       "      <td>6</td>\n",
       "      <td>Not Evaluated</td>\n",
       "      <td>7053</td>\n",
       "      <td>NaN</td>\n",
       "      <td>NaN</td>\n",
       "      <td>NaN</td>\n",
       "      <td>NaN</td>\n",
       "      <td>NaN</td>\n",
       "      <td>NaN</td>\n",
       "      <td>NaN</td>\n",
       "    </tr>\n",
       "    <tr>\n",
       "      <th>ABA Accessibility Flag</th>\n",
       "      <td>8793</td>\n",
       "      <td>3</td>\n",
       "      <td>Yes</td>\n",
       "      <td>4690</td>\n",
       "      <td>NaN</td>\n",
       "      <td>NaN</td>\n",
       "      <td>NaN</td>\n",
       "      <td>NaN</td>\n",
       "      <td>NaN</td>\n",
       "      <td>NaN</td>\n",
       "      <td>NaN</td>\n",
       "    </tr>\n",
       "  </tbody>\n",
       "</table>\n",
       "</div>"
      ],
      "text/plain": [
       "                          count unique                                top  \\\n",
       "Location Code              8793   8793                             CT0013   \n",
       "Region Code              8793.0    NaN                                NaN   \n",
       "Bldg Address1              8793   7727  2701 MARTIN LUTHER KING JR AVE SE   \n",
       "Bldg Address2              8791    535                                      \n",
       "Bldg City                  8793   1938                         WASHINGTON   \n",
       "Bldg County                8793    934               DISTRICT OF COLUMBIA   \n",
       "Bldg State                 8793     56                                 TX   \n",
       "Bldg Zip                 8793.0    NaN                                NaN   \n",
       "Congressional District     8793      3                                      \n",
       "Bldg Status                8793      3                             ACTIVE   \n",
       "Property Type              8793      2                           BUILDING   \n",
       "Bldg ANSI Usable         8793.0    NaN                                NaN   \n",
       "Total Parking Spaces     8793.0    NaN                                NaN   \n",
       "Owned/Leased               8793      2                             LEASED   \n",
       "Construction Date          8793   1386                    01 January 2000   \n",
       "Historical Type            8793      1                   Field Not In Use   \n",
       "Historical Status          8793      6                      Not Evaluated   \n",
       "ABA Accessibility Flag     8793      3                                Yes   \n",
       "\n",
       "                         freq             mean               std    min  \\\n",
       "Location Code               1              NaN               NaN    NaN   \n",
       "Region Code               NaN         6.198112          2.887701    1.0   \n",
       "Bldg Address1              56              NaN               NaN    NaN   \n",
       "Bldg Address2            8036              NaN               NaN    NaN   \n",
       "Bldg City                 433              NaN               NaN    NaN   \n",
       "Bldg County               431              NaN               NaN    NaN   \n",
       "Bldg State                877              NaN               NaN    NaN   \n",
       "Bldg Zip                  NaN  465004732.22552  324904513.742083  605.0   \n",
       "Congressional District   8791              NaN               NaN    NaN   \n",
       "Bldg Status              8740              NaN               NaN    NaN   \n",
       "Property Type            8435              NaN               NaN    NaN   \n",
       "Bldg ANSI Usable          NaN      33925.81019      93305.167927    0.0   \n",
       "Total Parking Spaces      NaN        50.997839        179.739465    0.0   \n",
       "Owned/Leased             6750              NaN               NaN    NaN   \n",
       "Construction Date        4899              NaN               NaN    NaN   \n",
       "Historical Type          8793              NaN               NaN    NaN   \n",
       "Historical Status        7053              NaN               NaN    NaN   \n",
       "ABA Accessibility Flag   4690              NaN               NaN    NaN   \n",
       "\n",
       "                                 25%          50%          75%          max  \n",
       "Location Code                    NaN          NaN          NaN          NaN  \n",
       "Region Code                      4.0          6.0          9.0         11.0  \n",
       "Bldg Address1                    NaN          NaN          NaN          NaN  \n",
       "Bldg Address2                    NaN          NaN          NaN          NaN  \n",
       "Bldg City                        NaN          NaN          NaN          NaN  \n",
       "Bldg County                      NaN          NaN          NaN          NaN  \n",
       "Bldg State                       NaN          NaN          NaN          NaN  \n",
       "Bldg Zip                 200162705.0  422404944.0  785216762.0  999019998.0  \n",
       "Congressional District           NaN          NaN          NaN          NaN  \n",
       "Bldg Status                      NaN          NaN          NaN          NaN  \n",
       "Property Type                    NaN          NaN          NaN          NaN  \n",
       "Bldg ANSI Usable              3053.0       8119.0      22218.0    1989117.0  \n",
       "Total Parking Spaces             0.0          8.0         39.0       6198.0  \n",
       "Owned/Leased                     NaN          NaN          NaN          NaN  \n",
       "Construction Date                NaN          NaN          NaN          NaN  \n",
       "Historical Type                  NaN          NaN          NaN          NaN  \n",
       "Historical Status                NaN          NaN          NaN          NaN  \n",
       "ABA Accessibility Flag           NaN          NaN          NaN          NaN  "
      ]
     },
     "execution_count": 6,
     "metadata": {},
     "output_type": "execute_result"
    }
   ],
   "source": [
    "df.describe(include = 'all').T"
   ]
  },
  {
   "cell_type": "code",
   "execution_count": 7,
   "id": "cc948777",
   "metadata": {},
   "outputs": [
    {
     "name": "stdout",
     "output_type": "stream",
     "text": [
      "Number of duplicate rows = 0\n"
     ]
    },
    {
     "data": {
      "text/html": [
       "<div>\n",
       "<style scoped>\n",
       "    .dataframe tbody tr th:only-of-type {\n",
       "        vertical-align: middle;\n",
       "    }\n",
       "\n",
       "    .dataframe tbody tr th {\n",
       "        vertical-align: top;\n",
       "    }\n",
       "\n",
       "    .dataframe thead th {\n",
       "        text-align: right;\n",
       "    }\n",
       "</style>\n",
       "<table border=\"1\" class=\"dataframe\">\n",
       "  <thead>\n",
       "    <tr style=\"text-align: right;\">\n",
       "      <th></th>\n",
       "      <th>Location Code</th>\n",
       "      <th>Region Code</th>\n",
       "      <th>Bldg Address1</th>\n",
       "      <th>Bldg Address2</th>\n",
       "      <th>Bldg City</th>\n",
       "      <th>Bldg County</th>\n",
       "      <th>Bldg State</th>\n",
       "      <th>Bldg Zip</th>\n",
       "      <th>Congressional District</th>\n",
       "      <th>Bldg Status</th>\n",
       "      <th>Property Type</th>\n",
       "      <th>Bldg ANSI Usable</th>\n",
       "      <th>Total Parking Spaces</th>\n",
       "      <th>Owned/Leased</th>\n",
       "      <th>Construction Date</th>\n",
       "      <th>Historical Type</th>\n",
       "      <th>Historical Status</th>\n",
       "      <th>ABA Accessibility Flag</th>\n",
       "    </tr>\n",
       "  </thead>\n",
       "  <tbody>\n",
       "  </tbody>\n",
       "</table>\n",
       "</div>"
      ],
      "text/plain": [
       "Empty DataFrame\n",
       "Columns: [Location Code, Region Code, Bldg Address1, Bldg Address2, Bldg City, Bldg County, Bldg State, Bldg Zip, Congressional District, Bldg Status, Property Type, Bldg ANSI Usable, Total Parking Spaces, Owned/Leased, Construction Date, Historical Type, Historical Status, ABA Accessibility Flag ]\n",
       "Index: []"
      ]
     },
     "execution_count": 7,
     "metadata": {},
     "output_type": "execute_result"
    }
   ],
   "source": [
    "#Check for Duplicates records\n",
    "dups = df.duplicated()\n",
    "print(\"Number of duplicate rows = %d\" % (dups.sum()))\n",
    "df[dups]"
   ]
  },
  {
   "cell_type": "markdown",
   "id": "1fe28e61",
   "metadata": {},
   "source": [
    "#### Visualizing the Data"
   ]
  },
  {
   "cell_type": "code",
   "execution_count": 8,
   "id": "1f0ad5ec",
   "metadata": {},
   "outputs": [
    {
     "data": {
      "image/png": "[encoded data removed]",
      "text/plain": [
       "<Figure size 800x600 with 1 Axes>"
      ]
     },
     "metadata": {},
     "output_type": "display_data"
    }
   ],
   "source": [
    "#Bar plot for Target Distribution\n",
    "import seaborn as sns\n",
    "import matplotlib.pyplot as plt \n",
    "\n",
    "plt.figure(figsize = (8,6))\n",
    "sns.countplot(x ='Owned/Leased',data = df)\n",
    "plt.title(\"Distribution of Owned/Leased\")\n",
    "plt.show()"
   ]
  },
  {
   "cell_type": "code",
   "execution_count": 9,
   "id": "5d0b3ed2",
   "metadata": {},
   "outputs": [
    {
     "data": {
      "image/png": "[encoded data removed]",
      "text/plain": [
       "<Figure size 1200x800 with 1 Axes>"
      ]
     },
     "metadata": {},
     "output_type": "display_data"
    }
   ],
   "source": [
    "#Box plot for Numeric Features by Owned/Leased\n",
    "plt.figure(figsize = (12,8))\n",
    "sns.boxplot(x = 'Owned/Leased', y = 'Total Parking Spaces', data = df)\n",
    "plt.title('Total Parking Spaces by Owned/Leased')\n",
    "plt.show()"
   ]
  },
  {
   "cell_type": "code",
   "execution_count": 10,
   "id": "643fc64f",
   "metadata": {},
   "outputs": [
    {
     "data": {
      "image/png": "[encoded data removed]",
      "text/plain": [
       "<Figure size 1200x800 with 1 Axes>"
      ]
     },
     "metadata": {},
     "output_type": "display_data"
    }
   ],
   "source": [
    "#Count plot for Categorical Features by Owned/Leased\n",
    "plt.figure(figsize = (12,8))\n",
    "sns.countplot(x='Region Code', hue = 'Owned/Leased', data = df)\n",
    "plt.title(\"Region Code Distribution by Owned/Leased\")\n",
    "plt.show()"
   ]
  },
  {
   "cell_type": "code",
   "execution_count": 11,
   "id": "062135a0",
   "metadata": {},
   "outputs": [
    {
     "data": {
      "image/png": "[encoded data removed]",
      "text/plain": [
       "<Figure size 1200x1000 with 2 Axes>"
      ]
     },
     "metadata": {},
     "output_type": "display_data"
    }
   ],
   "source": [
    "#Correlation Heatmap\n",
    "corr_matrix = df.corr()\n",
    "plt.figure(figsize = (12,10))\n",
    "sns.heatmap(corr_matrix, annot = True, cmap = 'coolwarm', fmt = \".2f\")\n",
    "plt.title(\"Correlation Heatmap\")\n",
    "plt.show()"
   ]
  },
  {
   "cell_type": "code",
   "execution_count": 12,
   "id": "665233e9",
   "metadata": {},
   "outputs": [
    {
     "data": {
      "text/plain": [
       "Bldg Address2    2\n",
       "dtype: int64"
      ]
     },
     "execution_count": 12,
     "metadata": {},
     "output_type": "execute_result"
    }
   ],
   "source": [
    "#Checking for missing values\n",
    "df.isnull().sum()[df.isnull().sum()>0]"
   ]
  },
  {
   "cell_type": "code",
   "execution_count": 13,
   "id": "6e97c3d9",
   "metadata": {},
   "outputs": [],
   "source": [
    "mode1 = df[\"Bldg Address2\"].mode().values[0]\n",
    "\n",
    "df[\"Bldg Address2\"] = df[\"Bldg Address2\"].replace(np.nan, mode1)"
   ]
  },
  {
   "cell_type": "code",
   "execution_count": 14,
   "id": "6fa3b00d",
   "metadata": {},
   "outputs": [
    {
     "data": {
      "text/plain": [
       "Location Code              0\n",
       "Region Code                0\n",
       "Bldg Address1              0\n",
       "Bldg Address2              0\n",
       "Bldg City                  0\n",
       "Bldg County                0\n",
       "Bldg State                 0\n",
       "Bldg Zip                   0\n",
       "Congressional District     0\n",
       "Bldg Status                0\n",
       "Property Type              0\n",
       "Bldg ANSI Usable           0\n",
       "Total Parking Spaces       0\n",
       "Owned/Leased               0\n",
       "Construction Date          0\n",
       "Historical Type            0\n",
       "Historical Status          0\n",
       "ABA Accessibility Flag     0\n",
       "dtype: int64"
      ]
     },
     "execution_count": 14,
     "metadata": {},
     "output_type": "execute_result"
    }
   ],
   "source": [
    "#Checking for missing values in the data\n",
    "df.isnull().sum()"
   ]
  },
  {
   "cell_type": "code",
   "execution_count": 15,
   "id": "8f009228",
   "metadata": {},
   "outputs": [],
   "source": [
    "#Dropping the columns\n",
    "columns_to_drop = ['Congressional District','Historical Type','Region Code']\n",
    "df = df.drop(columns = columns_to_drop)"
   ]
  },
  {
   "cell_type": "code",
   "execution_count": 16,
   "id": "c12ae1b7",
   "metadata": {},
   "outputs": [
    {
     "name": "stdout",
     "output_type": "stream",
     "text": [
      "<class 'pandas.core.frame.DataFrame'>\n",
      "RangeIndex: 8793 entries, 0 to 8792\n",
      "Data columns (total 15 columns):\n",
      " #   Column                   Non-Null Count  Dtype \n",
      "---  ------                   --------------  ----- \n",
      " 0   Location Code            8793 non-null   object\n",
      " 1   Bldg Address1            8793 non-null   object\n",
      " 2   Bldg Address2            8793 non-null   object\n",
      " 3   Bldg City                8793 non-null   object\n",
      " 4   Bldg County              8793 non-null   object\n",
      " 5   Bldg State               8793 non-null   object\n",
      " 6   Bldg Zip                 8793 non-null   int64 \n",
      " 7   Bldg Status              8793 non-null   object\n",
      " 8   Property Type            8793 non-null   object\n",
      " 9   Bldg ANSI Usable         8793 non-null   int64 \n",
      " 10  Total Parking Spaces     8793 non-null   int64 \n",
      " 11  Owned/Leased             8793 non-null   object\n",
      " 12  Construction Date        8793 non-null   object\n",
      " 13  Historical Status        8793 non-null   object\n",
      " 14  ABA Accessibility Flag   8793 non-null   object\n",
      "dtypes: int64(3), object(12)\n",
      "memory usage: 1.0+ MB\n"
     ]
    }
   ],
   "source": [
    "df.info()"
   ]
  },
  {
   "cell_type": "code",
   "execution_count": 17,
   "id": "a6bb35cd",
   "metadata": {},
   "outputs": [],
   "source": [
    "#Renaming the column from Bldg County to Bldg Country\n",
    "df.rename(columns = {'Bldg County': 'Bldg Country'}, inplace = True)"
   ]
  },
  {
   "cell_type": "code",
   "execution_count": 18,
   "id": "0c0f9fa8",
   "metadata": {},
   "outputs": [],
   "source": [
    "df['ABA Accessibility Flag '] = df['ABA Accessibility Flag '].replace({'Will Conform': 'Will Confirm'})"
   ]
  },
  {
   "cell_type": "code",
   "execution_count": 19,
   "id": "c8ed689e",
   "metadata": {},
   "outputs": [
    {
     "name": "stdout",
     "output_type": "stream",
     "text": [
      "<class 'pandas.core.frame.DataFrame'>\n",
      "RangeIndex: 8793 entries, 0 to 8792\n",
      "Data columns (total 15 columns):\n",
      " #   Column                   Non-Null Count  Dtype \n",
      "---  ------                   --------------  ----- \n",
      " 0   Location Code            8793 non-null   object\n",
      " 1   Bldg Address1            8793 non-null   object\n",
      " 2   Bldg Address2            8793 non-null   object\n",
      " 3   Bldg City                8793 non-null   object\n",
      " 4   Bldg Country             8793 non-null   object\n",
      " 5   Bldg State               8793 non-null   object\n",
      " 6   Bldg Zip                 8793 non-null   int64 \n",
      " 7   Bldg Status              8793 non-null   object\n",
      " 8   Property Type            8793 non-null   object\n",
      " 9   Bldg ANSI Usable         8793 non-null   int64 \n",
      " 10  Total Parking Spaces     8793 non-null   int64 \n",
      " 11  Owned/Leased             8793 non-null   object\n",
      " 12  Construction Date        8793 non-null   object\n",
      " 13  Historical Status        8793 non-null   object\n",
      " 14  ABA Accessibility Flag   8793 non-null   object\n",
      "dtypes: int64(3), object(12)\n",
      "memory usage: 1.0+ MB\n"
     ]
    }
   ],
   "source": [
    "df.info()"
   ]
  },
  {
   "cell_type": "code",
   "execution_count": 20,
   "id": "b081da2c",
   "metadata": {},
   "outputs": [
    {
     "data": {
      "text/plain": [
       "array(['Will Confirm', 'Yes', 'No'], dtype=object)"
      ]
     },
     "execution_count": 20,
     "metadata": {},
     "output_type": "execute_result"
    }
   ],
   "source": [
    "df['ABA Accessibility Flag '].unique()"
   ]
  },
  {
   "cell_type": "code",
   "execution_count": 21,
   "id": "a0d090bb",
   "metadata": {},
   "outputs": [],
   "source": [
    "mode2 = df['Historical Status'].mode().values[0]\n",
    "\n",
    "df['Historical Status'] = df['Historical Status'].replace(np.nan, mode2)"
   ]
  },
  {
   "cell_type": "code",
   "execution_count": 22,
   "id": "88f63ac4",
   "metadata": {},
   "outputs": [],
   "source": [
    "#deriving year and month from the column\n",
    "df['Cons_Year'] = pd.to_datetime(df['Construction Date']).dt.year\n",
    "df['Cons_Month'] = pd.to_datetime(df['Construction Date']).dt.month"
   ]
  },
  {
   "cell_type": "code",
   "execution_count": 23,
   "id": "6067d1ff",
   "metadata": {},
   "outputs": [
    {
     "name": "stdout",
     "output_type": "stream",
     "text": [
      "<class 'pandas.core.frame.DataFrame'>\n",
      "RangeIndex: 8793 entries, 0 to 8792\n",
      "Data columns (total 17 columns):\n",
      " #   Column                   Non-Null Count  Dtype \n",
      "---  ------                   --------------  ----- \n",
      " 0   Location Code            8793 non-null   object\n",
      " 1   Bldg Address1            8793 non-null   object\n",
      " 2   Bldg Address2            8793 non-null   object\n",
      " 3   Bldg City                8793 non-null   object\n",
      " 4   Bldg Country             8793 non-null   object\n",
      " 5   Bldg State               8793 non-null   object\n",
      " 6   Bldg Zip                 8793 non-null   int64 \n",
      " 7   Bldg Status              8793 non-null   object\n",
      " 8   Property Type            8793 non-null   object\n",
      " 9   Bldg ANSI Usable         8793 non-null   int64 \n",
      " 10  Total Parking Spaces     8793 non-null   int64 \n",
      " 11  Owned/Leased             8793 non-null   object\n",
      " 12  Construction Date        8793 non-null   object\n",
      " 13  Historical Status        8793 non-null   object\n",
      " 14  ABA Accessibility Flag   8793 non-null   object\n",
      " 15  Cons_Year                8793 non-null   int64 \n",
      " 16  Cons_Month               8793 non-null   int64 \n",
      "dtypes: int64(5), object(12)\n",
      "memory usage: 1.1+ MB\n"
     ]
    }
   ],
   "source": [
    "df.info()"
   ]
  },
  {
   "cell_type": "code",
   "execution_count": 24,
   "id": "b0d29f5e",
   "metadata": {},
   "outputs": [
    {
     "data": {
      "text/html": [
       "<div>\n",
       "<style scoped>\n",
       "    .dataframe tbody tr th:only-of-type {\n",
       "        vertical-align: middle;\n",
       "    }\n",
       "\n",
       "    .dataframe tbody tr th {\n",
       "        vertical-align: top;\n",
       "    }\n",
       "\n",
       "    .dataframe thead th {\n",
       "        text-align: right;\n",
       "    }\n",
       "</style>\n",
       "<table border=\"1\" class=\"dataframe\">\n",
       "  <thead>\n",
       "    <tr style=\"text-align: right;\">\n",
       "      <th></th>\n",
       "      <th>Location Code</th>\n",
       "      <th>Bldg Address1</th>\n",
       "      <th>Bldg Address2</th>\n",
       "      <th>Bldg City</th>\n",
       "      <th>Bldg Country</th>\n",
       "      <th>Bldg State</th>\n",
       "      <th>Bldg Zip</th>\n",
       "      <th>Bldg Status</th>\n",
       "      <th>Property Type</th>\n",
       "      <th>Bldg ANSI Usable</th>\n",
       "      <th>Total Parking Spaces</th>\n",
       "      <th>Owned/Leased</th>\n",
       "      <th>Construction Date</th>\n",
       "      <th>Historical Status</th>\n",
       "      <th>ABA Accessibility Flag</th>\n",
       "      <th>Cons_Year</th>\n",
       "      <th>Cons_Month</th>\n",
       "    </tr>\n",
       "  </thead>\n",
       "  <tbody>\n",
       "    <tr>\n",
       "      <th>0</th>\n",
       "      <td>CT0013</td>\n",
       "      <td>135 HIGH ST</td>\n",
       "      <td></td>\n",
       "      <td>HARTFORD</td>\n",
       "      <td>HARTFORD</td>\n",
       "      <td>CT</td>\n",
       "      <td>61031125</td>\n",
       "      <td>ACTIVE</td>\n",
       "      <td>BUILDING</td>\n",
       "      <td>93394</td>\n",
       "      <td>28</td>\n",
       "      <td>OWNED</td>\n",
       "      <td>01 January 1933</td>\n",
       "      <td>National Register Listed</td>\n",
       "      <td>Will Confirm</td>\n",
       "      <td>1933</td>\n",
       "      <td>1</td>\n",
       "    </tr>\n",
       "    <tr>\n",
       "      <th>1</th>\n",
       "      <td>CT0024</td>\n",
       "      <td>141 CHURCH ST</td>\n",
       "      <td>U.S. COURTHOUSE</td>\n",
       "      <td>NEW HAVEN</td>\n",
       "      <td>NEW HAVEN</td>\n",
       "      <td>CT</td>\n",
       "      <td>65102001</td>\n",
       "      <td>ACTIVE</td>\n",
       "      <td>BUILDING</td>\n",
       "      <td>67174</td>\n",
       "      <td>0</td>\n",
       "      <td>OWNED</td>\n",
       "      <td>01 January 1919</td>\n",
       "      <td>National Register Listed</td>\n",
       "      <td>Will Confirm</td>\n",
       "      <td>1919</td>\n",
       "      <td>1</td>\n",
       "    </tr>\n",
       "    <tr>\n",
       "      <th>2</th>\n",
       "      <td>CT0047</td>\n",
       "      <td>135 GRAND ST</td>\n",
       "      <td></td>\n",
       "      <td>WATERBURY</td>\n",
       "      <td>NEW HAVEN</td>\n",
       "      <td>CT</td>\n",
       "      <td>67029998</td>\n",
       "      <td>ACTIVE</td>\n",
       "      <td>BUILDING</td>\n",
       "      <td>269</td>\n",
       "      <td>0</td>\n",
       "      <td>LEASED</td>\n",
       "      <td>01 January 1933</td>\n",
       "      <td>National Register Listed</td>\n",
       "      <td>Will Confirm</td>\n",
       "      <td>1933</td>\n",
       "      <td>1</td>\n",
       "    </tr>\n",
       "    <tr>\n",
       "      <th>3</th>\n",
       "      <td>CT0053</td>\n",
       "      <td>450 MAIN ST</td>\n",
       "      <td></td>\n",
       "      <td>HARTFORD</td>\n",
       "      <td>HARTFORD</td>\n",
       "      <td>CT</td>\n",
       "      <td>61031804</td>\n",
       "      <td>ACTIVE</td>\n",
       "      <td>BUILDING</td>\n",
       "      <td>197999</td>\n",
       "      <td>105</td>\n",
       "      <td>OWNED</td>\n",
       "      <td>01 January 1963</td>\n",
       "      <td></td>\n",
       "      <td>Will Confirm</td>\n",
       "      <td>1963</td>\n",
       "      <td>1</td>\n",
       "    </tr>\n",
       "    <tr>\n",
       "      <th>4</th>\n",
       "      <td>CT0059</td>\n",
       "      <td>915 LAFAYETTE BLVD</td>\n",
       "      <td></td>\n",
       "      <td>BRIDGEPORT</td>\n",
       "      <td>FAIRFIELD</td>\n",
       "      <td>CT</td>\n",
       "      <td>66044706</td>\n",
       "      <td>ACTIVE</td>\n",
       "      <td>BUILDING</td>\n",
       "      <td>85551</td>\n",
       "      <td>131</td>\n",
       "      <td>OWNED</td>\n",
       "      <td>01 January 1967</td>\n",
       "      <td></td>\n",
       "      <td>Will Confirm</td>\n",
       "      <td>1967</td>\n",
       "      <td>1</td>\n",
       "    </tr>\n",
       "  </tbody>\n",
       "</table>\n",
       "</div>"
      ],
      "text/plain": [
       "  Location Code       Bldg Address1    Bldg Address2   Bldg City Bldg Country  \\\n",
       "0        CT0013         135 HIGH ST                     HARTFORD     HARTFORD   \n",
       "1        CT0024       141 CHURCH ST  U.S. COURTHOUSE   NEW HAVEN    NEW HAVEN   \n",
       "2        CT0047        135 GRAND ST                    WATERBURY    NEW HAVEN   \n",
       "3        CT0053         450 MAIN ST                     HARTFORD     HARTFORD   \n",
       "4        CT0059  915 LAFAYETTE BLVD                   BRIDGEPORT    FAIRFIELD   \n",
       "\n",
       "  Bldg State  Bldg Zip Bldg Status Property Type  Bldg ANSI Usable  \\\n",
       "0         CT  61031125      ACTIVE      BUILDING             93394   \n",
       "1         CT  65102001      ACTIVE      BUILDING             67174   \n",
       "2         CT  67029998      ACTIVE      BUILDING               269   \n",
       "3         CT  61031804      ACTIVE      BUILDING            197999   \n",
       "4         CT  66044706      ACTIVE      BUILDING             85551   \n",
       "\n",
       "   Total Parking Spaces Owned/Leased Construction Date  \\\n",
       "0                    28        OWNED   01 January 1933   \n",
       "1                     0        OWNED   01 January 1919   \n",
       "2                     0       LEASED   01 January 1933   \n",
       "3                   105        OWNED   01 January 1963   \n",
       "4                   131        OWNED   01 January 1967   \n",
       "\n",
       "          Historical Status ABA Accessibility Flag   Cons_Year  Cons_Month  \n",
       "0  National Register Listed            Will Confirm       1933           1  \n",
       "1  National Register Listed            Will Confirm       1919           1  \n",
       "2  National Register Listed            Will Confirm       1933           1  \n",
       "3                                      Will Confirm       1963           1  \n",
       "4                                      Will Confirm       1967           1  "
      ]
     },
     "execution_count": 24,
     "metadata": {},
     "output_type": "execute_result"
    }
   ],
   "source": [
    "df.head()"
   ]
  },
  {
   "cell_type": "code",
   "execution_count": 25,
   "id": "5a073600",
   "metadata": {},
   "outputs": [
    {
     "data": {
      "image/png": "[encoded data removed]",
      "text/plain": [
       "<Figure size 1400x600 with 1 Axes>"
      ]
     },
     "metadata": {},
     "output_type": "display_data"
    }
   ],
   "source": [
    "# Find the top 5 years based on the count of buildings\n",
    "top_years = df['Cons_Year'].value_counts().nlargest(5).index\n",
    "\n",
    "# Filter the DataFrame for the top 5 years\n",
    "df_top_years = df[df['Cons_Year'].isin(top_years)]\n",
    "\n",
    "# Bar plot for Owned/Leased over the top 5 years\n",
    "plt.figure(figsize=(14, 6))\n",
    "sns.countplot(x='Cons_Year', hue='Owned/Leased', data=df_top_years)\n",
    "plt.title('Count of Owned and Leased Buildings Over the Top 5 Years')\n",
    "plt.xlabel('Construction Year')\n",
    "plt.ylabel('Count')\n",
    "plt.show()"
   ]
  },
  {
   "cell_type": "code",
   "execution_count": 26,
   "id": "9923ba05",
   "metadata": {},
   "outputs": [],
   "source": [
    "#Label Encoding few columns \n",
    "# Specify columns to label encode\n",
    "columns_to_encode = ['Bldg City', 'Bldg Country', 'Bldg State', 'Bldg Status', 'Property Type',\n",
    "                      'Owned/Leased', 'Historical Status', 'ABA Accessibility Flag ']\n",
    "\n",
    "#Initialize Label Encoder\n",
    "label_encoder = LabelEncoder()\n",
    "\n",
    "#Apply label encoding to each specified column\n",
    "for column in columns_to_encode:\n",
    "    df[column] = label_encoder.fit_transform(df[column])"
   ]
  },
  {
   "cell_type": "code",
   "execution_count": 27,
   "id": "24b8a827",
   "metadata": {},
   "outputs": [
    {
     "data": {
      "text/html": [
       "<div>\n",
       "<style scoped>\n",
       "    .dataframe tbody tr th:only-of-type {\n",
       "        vertical-align: middle;\n",
       "    }\n",
       "\n",
       "    .dataframe tbody tr th {\n",
       "        vertical-align: top;\n",
       "    }\n",
       "\n",
       "    .dataframe thead th {\n",
       "        text-align: right;\n",
       "    }\n",
       "</style>\n",
       "<table border=\"1\" class=\"dataframe\">\n",
       "  <thead>\n",
       "    <tr style=\"text-align: right;\">\n",
       "      <th></th>\n",
       "      <th>Location Code</th>\n",
       "      <th>Bldg Address1</th>\n",
       "      <th>Bldg Address2</th>\n",
       "      <th>Bldg City</th>\n",
       "      <th>Bldg Country</th>\n",
       "      <th>Bldg State</th>\n",
       "      <th>Bldg Zip</th>\n",
       "      <th>Bldg Status</th>\n",
       "      <th>Property Type</th>\n",
       "      <th>Bldg ANSI Usable</th>\n",
       "      <th>Total Parking Spaces</th>\n",
       "      <th>Owned/Leased</th>\n",
       "      <th>Construction Date</th>\n",
       "      <th>Historical Status</th>\n",
       "      <th>ABA Accessibility Flag</th>\n",
       "      <th>Cons_Year</th>\n",
       "      <th>Cons_Month</th>\n",
       "    </tr>\n",
       "  </thead>\n",
       "  <tbody>\n",
       "    <tr>\n",
       "      <th>0</th>\n",
       "      <td>CT0013</td>\n",
       "      <td>135 HIGH ST</td>\n",
       "      <td></td>\n",
       "      <td>724</td>\n",
       "      <td>370</td>\n",
       "      <td>7</td>\n",
       "      <td>61031125</td>\n",
       "      <td>0</td>\n",
       "      <td>0</td>\n",
       "      <td>93394</td>\n",
       "      <td>28</td>\n",
       "      <td>1</td>\n",
       "      <td>01 January 1933</td>\n",
       "      <td>3</td>\n",
       "      <td>1</td>\n",
       "      <td>1933</td>\n",
       "      <td>1</td>\n",
       "    </tr>\n",
       "    <tr>\n",
       "      <th>1</th>\n",
       "      <td>CT0024</td>\n",
       "      <td>141 CHURCH ST</td>\n",
       "      <td>U.S. COURTHOUSE</td>\n",
       "      <td>1182</td>\n",
       "      <td>586</td>\n",
       "      <td>7</td>\n",
       "      <td>65102001</td>\n",
       "      <td>0</td>\n",
       "      <td>0</td>\n",
       "      <td>67174</td>\n",
       "      <td>0</td>\n",
       "      <td>1</td>\n",
       "      <td>01 January 1919</td>\n",
       "      <td>3</td>\n",
       "      <td>1</td>\n",
       "      <td>1919</td>\n",
       "      <td>1</td>\n",
       "    </tr>\n",
       "    <tr>\n",
       "      <th>2</th>\n",
       "      <td>CT0047</td>\n",
       "      <td>135 GRAND ST</td>\n",
       "      <td></td>\n",
       "      <td>1820</td>\n",
       "      <td>586</td>\n",
       "      <td>7</td>\n",
       "      <td>67029998</td>\n",
       "      <td>0</td>\n",
       "      <td>0</td>\n",
       "      <td>269</td>\n",
       "      <td>0</td>\n",
       "      <td>0</td>\n",
       "      <td>01 January 1933</td>\n",
       "      <td>3</td>\n",
       "      <td>1</td>\n",
       "      <td>1933</td>\n",
       "      <td>1</td>\n",
       "    </tr>\n",
       "    <tr>\n",
       "      <th>3</th>\n",
       "      <td>CT0053</td>\n",
       "      <td>450 MAIN ST</td>\n",
       "      <td></td>\n",
       "      <td>724</td>\n",
       "      <td>370</td>\n",
       "      <td>7</td>\n",
       "      <td>61031804</td>\n",
       "      <td>0</td>\n",
       "      <td>0</td>\n",
       "      <td>197999</td>\n",
       "      <td>105</td>\n",
       "      <td>1</td>\n",
       "      <td>01 January 1963</td>\n",
       "      <td>0</td>\n",
       "      <td>1</td>\n",
       "      <td>1963</td>\n",
       "      <td>1</td>\n",
       "    </tr>\n",
       "    <tr>\n",
       "      <th>4</th>\n",
       "      <td>CT0059</td>\n",
       "      <td>915 LAFAYETTE BLVD</td>\n",
       "      <td></td>\n",
       "      <td>199</td>\n",
       "      <td>284</td>\n",
       "      <td>7</td>\n",
       "      <td>66044706</td>\n",
       "      <td>0</td>\n",
       "      <td>0</td>\n",
       "      <td>85551</td>\n",
       "      <td>131</td>\n",
       "      <td>1</td>\n",
       "      <td>01 January 1967</td>\n",
       "      <td>0</td>\n",
       "      <td>1</td>\n",
       "      <td>1967</td>\n",
       "      <td>1</td>\n",
       "    </tr>\n",
       "  </tbody>\n",
       "</table>\n",
       "</div>"
      ],
      "text/plain": [
       "  Location Code       Bldg Address1    Bldg Address2  Bldg City  Bldg Country  \\\n",
       "0        CT0013         135 HIGH ST                         724           370   \n",
       "1        CT0024       141 CHURCH ST  U.S. COURTHOUSE       1182           586   \n",
       "2        CT0047        135 GRAND ST                        1820           586   \n",
       "3        CT0053         450 MAIN ST                         724           370   \n",
       "4        CT0059  915 LAFAYETTE BLVD                         199           284   \n",
       "\n",
       "   Bldg State  Bldg Zip  Bldg Status  Property Type  Bldg ANSI Usable  \\\n",
       "0           7  61031125            0              0             93394   \n",
       "1           7  65102001            0              0             67174   \n",
       "2           7  67029998            0              0               269   \n",
       "3           7  61031804            0              0            197999   \n",
       "4           7  66044706            0              0             85551   \n",
       "\n",
       "   Total Parking Spaces  Owned/Leased Construction Date  Historical Status  \\\n",
       "0                    28             1   01 January 1933                  3   \n",
       "1                     0             1   01 January 1919                  3   \n",
       "2                     0             0   01 January 1933                  3   \n",
       "3                   105             1   01 January 1963                  0   \n",
       "4                   131             1   01 January 1967                  0   \n",
       "\n",
       "   ABA Accessibility Flag   Cons_Year  Cons_Month  \n",
       "0                        1       1933           1  \n",
       "1                        1       1919           1  \n",
       "2                        1       1933           1  \n",
       "3                        1       1963           1  \n",
       "4                        1       1967           1  "
      ]
     },
     "execution_count": 27,
     "metadata": {},
     "output_type": "execute_result"
    }
   ],
   "source": [
    "df.head()"
   ]
  },
  {
   "cell_type": "code",
   "execution_count": 28,
   "id": "e5c58a25",
   "metadata": {},
   "outputs": [],
   "source": [
    "#Dropping column 'Bldg Zip', 'Construction Date'\n",
    "df = df.drop('Bldg Zip', axis =1)\n",
    "df = df.drop('Construction Date', axis =1)"
   ]
  },
  {
   "cell_type": "code",
   "execution_count": null,
   "id": "b8d88552",
   "metadata": {},
   "outputs": [],
   "source": []
  },
  {
   "cell_type": "code",
   "execution_count": 29,
   "id": "50ed1273",
   "metadata": {},
   "outputs": [
    {
     "name": "stdout",
     "output_type": "stream",
     "text": [
      "<class 'pandas.core.frame.DataFrame'>\n",
      "RangeIndex: 8793 entries, 0 to 8792\n",
      "Data columns (total 15 columns):\n",
      " #   Column                   Non-Null Count  Dtype \n",
      "---  ------                   --------------  ----- \n",
      " 0   Location Code            8793 non-null   object\n",
      " 1   Bldg Address1            8793 non-null   object\n",
      " 2   Bldg Address2            8793 non-null   object\n",
      " 3   Bldg City                8793 non-null   int32 \n",
      " 4   Bldg Country             8793 non-null   int32 \n",
      " 5   Bldg State               8793 non-null   int32 \n",
      " 6   Bldg Status              8793 non-null   int32 \n",
      " 7   Property Type            8793 non-null   int32 \n",
      " 8   Bldg ANSI Usable         8793 non-null   int64 \n",
      " 9   Total Parking Spaces     8793 non-null   int64 \n",
      " 10  Owned/Leased             8793 non-null   int32 \n",
      " 11  Historical Status        8793 non-null   int32 \n",
      " 12  ABA Accessibility Flag   8793 non-null   int32 \n",
      " 13  Cons_Year                8793 non-null   int64 \n",
      " 14  Cons_Month               8793 non-null   int64 \n",
      "dtypes: int32(8), int64(4), object(3)\n",
      "memory usage: 755.8+ KB\n"
     ]
    }
   ],
   "source": [
    "df.info()"
   ]
  },
  {
   "cell_type": "code",
   "execution_count": 30,
   "id": "2b739add",
   "metadata": {},
   "outputs": [
    {
     "data": {
      "text/html": [
       "<div>\n",
       "<style scoped>\n",
       "    .dataframe tbody tr th:only-of-type {\n",
       "        vertical-align: middle;\n",
       "    }\n",
       "\n",
       "    .dataframe tbody tr th {\n",
       "        vertical-align: top;\n",
       "    }\n",
       "\n",
       "    .dataframe thead th {\n",
       "        text-align: right;\n",
       "    }\n",
       "</style>\n",
       "<table border=\"1\" class=\"dataframe\">\n",
       "  <thead>\n",
       "    <tr style=\"text-align: right;\">\n",
       "      <th></th>\n",
       "      <th>Location Code</th>\n",
       "      <th>Bldg Address1</th>\n",
       "      <th>Bldg Address2</th>\n",
       "      <th>Bldg City</th>\n",
       "      <th>Bldg Country</th>\n",
       "      <th>Bldg State</th>\n",
       "      <th>Bldg Status</th>\n",
       "      <th>Property Type</th>\n",
       "      <th>Bldg ANSI Usable</th>\n",
       "      <th>Total Parking Spaces</th>\n",
       "      <th>Owned/Leased</th>\n",
       "      <th>Historical Status</th>\n",
       "      <th>ABA Accessibility Flag</th>\n",
       "      <th>Cons_Year</th>\n",
       "      <th>Cons_Month</th>\n",
       "    </tr>\n",
       "  </thead>\n",
       "  <tbody>\n",
       "    <tr>\n",
       "      <th>0</th>\n",
       "      <td>CT0013</td>\n",
       "      <td>135 HIGH ST</td>\n",
       "      <td></td>\n",
       "      <td>724</td>\n",
       "      <td>370</td>\n",
       "      <td>7</td>\n",
       "      <td>0</td>\n",
       "      <td>0</td>\n",
       "      <td>93394</td>\n",
       "      <td>28</td>\n",
       "      <td>1</td>\n",
       "      <td>3</td>\n",
       "      <td>1</td>\n",
       "      <td>1933</td>\n",
       "      <td>1</td>\n",
       "    </tr>\n",
       "    <tr>\n",
       "      <th>1</th>\n",
       "      <td>CT0024</td>\n",
       "      <td>141 CHURCH ST</td>\n",
       "      <td>U.S. COURTHOUSE</td>\n",
       "      <td>1182</td>\n",
       "      <td>586</td>\n",
       "      <td>7</td>\n",
       "      <td>0</td>\n",
       "      <td>0</td>\n",
       "      <td>67174</td>\n",
       "      <td>0</td>\n",
       "      <td>1</td>\n",
       "      <td>3</td>\n",
       "      <td>1</td>\n",
       "      <td>1919</td>\n",
       "      <td>1</td>\n",
       "    </tr>\n",
       "    <tr>\n",
       "      <th>2</th>\n",
       "      <td>CT0047</td>\n",
       "      <td>135 GRAND ST</td>\n",
       "      <td></td>\n",
       "      <td>1820</td>\n",
       "      <td>586</td>\n",
       "      <td>7</td>\n",
       "      <td>0</td>\n",
       "      <td>0</td>\n",
       "      <td>269</td>\n",
       "      <td>0</td>\n",
       "      <td>0</td>\n",
       "      <td>3</td>\n",
       "      <td>1</td>\n",
       "      <td>1933</td>\n",
       "      <td>1</td>\n",
       "    </tr>\n",
       "    <tr>\n",
       "      <th>3</th>\n",
       "      <td>CT0053</td>\n",
       "      <td>450 MAIN ST</td>\n",
       "      <td></td>\n",
       "      <td>724</td>\n",
       "      <td>370</td>\n",
       "      <td>7</td>\n",
       "      <td>0</td>\n",
       "      <td>0</td>\n",
       "      <td>197999</td>\n",
       "      <td>105</td>\n",
       "      <td>1</td>\n",
       "      <td>0</td>\n",
       "      <td>1</td>\n",
       "      <td>1963</td>\n",
       "      <td>1</td>\n",
       "    </tr>\n",
       "    <tr>\n",
       "      <th>4</th>\n",
       "      <td>CT0059</td>\n",
       "      <td>915 LAFAYETTE BLVD</td>\n",
       "      <td></td>\n",
       "      <td>199</td>\n",
       "      <td>284</td>\n",
       "      <td>7</td>\n",
       "      <td>0</td>\n",
       "      <td>0</td>\n",
       "      <td>85551</td>\n",
       "      <td>131</td>\n",
       "      <td>1</td>\n",
       "      <td>0</td>\n",
       "      <td>1</td>\n",
       "      <td>1967</td>\n",
       "      <td>1</td>\n",
       "    </tr>\n",
       "  </tbody>\n",
       "</table>\n",
       "</div>"
      ],
      "text/plain": [
       "  Location Code       Bldg Address1    Bldg Address2  Bldg City  Bldg Country  \\\n",
       "0        CT0013         135 HIGH ST                         724           370   \n",
       "1        CT0024       141 CHURCH ST  U.S. COURTHOUSE       1182           586   \n",
       "2        CT0047        135 GRAND ST                        1820           586   \n",
       "3        CT0053         450 MAIN ST                         724           370   \n",
       "4        CT0059  915 LAFAYETTE BLVD                         199           284   \n",
       "\n",
       "   Bldg State  Bldg Status  Property Type  Bldg ANSI Usable  \\\n",
       "0           7            0              0             93394   \n",
       "1           7            0              0             67174   \n",
       "2           7            0              0               269   \n",
       "3           7            0              0            197999   \n",
       "4           7            0              0             85551   \n",
       "\n",
       "   Total Parking Spaces  Owned/Leased  Historical Status  \\\n",
       "0                    28             1                  3   \n",
       "1                     0             1                  3   \n",
       "2                     0             0                  3   \n",
       "3                   105             1                  0   \n",
       "4                   131             1                  0   \n",
       "\n",
       "   ABA Accessibility Flag   Cons_Year  Cons_Month  \n",
       "0                        1       1933           1  \n",
       "1                        1       1919           1  \n",
       "2                        1       1933           1  \n",
       "3                        1       1963           1  \n",
       "4                        1       1967           1  "
      ]
     },
     "execution_count": 30,
     "metadata": {},
     "output_type": "execute_result"
    }
   ],
   "source": [
    "df.head()"
   ]
  },
  {
   "cell_type": "code",
   "execution_count": 31,
   "id": "19506e9f",
   "metadata": {},
   "outputs": [],
   "source": [
    "#One hot encoding for nominal categorical columns\n",
    "df = pd.get_dummies(df, columns = ['Location Code', 'Bldg Address1', 'Bldg Address2'])"
   ]
  },
  {
   "cell_type": "code",
   "execution_count": 32,
   "id": "206d84cf",
   "metadata": {},
   "outputs": [
    {
     "data": {
      "text/html": [
       "<div>\n",
       "<style scoped>\n",
       "    .dataframe tbody tr th:only-of-type {\n",
       "        vertical-align: middle;\n",
       "    }\n",
       "\n",
       "    .dataframe tbody tr th {\n",
       "        vertical-align: top;\n",
       "    }\n",
       "\n",
       "    .dataframe thead th {\n",
       "        text-align: right;\n",
       "    }\n",
       "</style>\n",
       "<table border=\"1\" class=\"dataframe\">\n",
       "  <thead>\n",
       "    <tr style=\"text-align: right;\">\n",
       "      <th></th>\n",
       "      <th>Bldg City</th>\n",
       "      <th>Bldg Country</th>\n",
       "      <th>Bldg State</th>\n",
       "      <th>Bldg Status</th>\n",
       "      <th>Property Type</th>\n",
       "      <th>Bldg ANSI Usable</th>\n",
       "      <th>Total Parking Spaces</th>\n",
       "      <th>Owned/Leased</th>\n",
       "      <th>Historical Status</th>\n",
       "      <th>ABA Accessibility Flag</th>\n",
       "      <th>...</th>\n",
       "      <th>Bldg Address2_US HIGHWAY 90</th>\n",
       "      <th>Bldg Address2_US HWY 89 @ CANADIAN BORDER</th>\n",
       "      <th>Bldg Address2_WALNUT &amp; ORCHARD STS</th>\n",
       "      <th>Bldg Address2_WAREHOUSE 2</th>\n",
       "      <th>Bldg Address2_WASHINGTON,DC</th>\n",
       "      <th>Bldg Address2_WEST</th>\n",
       "      <th>Bldg Address2_WEST POTOMAC PARK</th>\n",
       "      <th>Bldg Address2_WESTPARK BUSINESS CTR</th>\n",
       "      <th>Bldg Address2_WHITE PLAINS</th>\n",
       "      <th>Bldg Address2_YORK VILLAGE BUILDING 6 SUITE C</th>\n",
       "    </tr>\n",
       "  </thead>\n",
       "  <tbody>\n",
       "    <tr>\n",
       "      <th>0</th>\n",
       "      <td>724</td>\n",
       "      <td>370</td>\n",
       "      <td>7</td>\n",
       "      <td>0</td>\n",
       "      <td>0</td>\n",
       "      <td>93394</td>\n",
       "      <td>28</td>\n",
       "      <td>1</td>\n",
       "      <td>3</td>\n",
       "      <td>1</td>\n",
       "      <td>...</td>\n",
       "      <td>0</td>\n",
       "      <td>0</td>\n",
       "      <td>0</td>\n",
       "      <td>0</td>\n",
       "      <td>0</td>\n",
       "      <td>0</td>\n",
       "      <td>0</td>\n",
       "      <td>0</td>\n",
       "      <td>0</td>\n",
       "      <td>0</td>\n",
       "    </tr>\n",
       "    <tr>\n",
       "      <th>1</th>\n",
       "      <td>1182</td>\n",
       "      <td>586</td>\n",
       "      <td>7</td>\n",
       "      <td>0</td>\n",
       "      <td>0</td>\n",
       "      <td>67174</td>\n",
       "      <td>0</td>\n",
       "      <td>1</td>\n",
       "      <td>3</td>\n",
       "      <td>1</td>\n",
       "      <td>...</td>\n",
       "      <td>0</td>\n",
       "      <td>0</td>\n",
       "      <td>0</td>\n",
       "      <td>0</td>\n",
       "      <td>0</td>\n",
       "      <td>0</td>\n",
       "      <td>0</td>\n",
       "      <td>0</td>\n",
       "      <td>0</td>\n",
       "      <td>0</td>\n",
       "    </tr>\n",
       "    <tr>\n",
       "      <th>2</th>\n",
       "      <td>1820</td>\n",
       "      <td>586</td>\n",
       "      <td>7</td>\n",
       "      <td>0</td>\n",
       "      <td>0</td>\n",
       "      <td>269</td>\n",
       "      <td>0</td>\n",
       "      <td>0</td>\n",
       "      <td>3</td>\n",
       "      <td>1</td>\n",
       "      <td>...</td>\n",
       "      <td>0</td>\n",
       "      <td>0</td>\n",
       "      <td>0</td>\n",
       "      <td>0</td>\n",
       "      <td>0</td>\n",
       "      <td>0</td>\n",
       "      <td>0</td>\n",
       "      <td>0</td>\n",
       "      <td>0</td>\n",
       "      <td>0</td>\n",
       "    </tr>\n",
       "    <tr>\n",
       "      <th>3</th>\n",
       "      <td>724</td>\n",
       "      <td>370</td>\n",
       "      <td>7</td>\n",
       "      <td>0</td>\n",
       "      <td>0</td>\n",
       "      <td>197999</td>\n",
       "      <td>105</td>\n",
       "      <td>1</td>\n",
       "      <td>0</td>\n",
       "      <td>1</td>\n",
       "      <td>...</td>\n",
       "      <td>0</td>\n",
       "      <td>0</td>\n",
       "      <td>0</td>\n",
       "      <td>0</td>\n",
       "      <td>0</td>\n",
       "      <td>0</td>\n",
       "      <td>0</td>\n",
       "      <td>0</td>\n",
       "      <td>0</td>\n",
       "      <td>0</td>\n",
       "    </tr>\n",
       "    <tr>\n",
       "      <th>4</th>\n",
       "      <td>199</td>\n",
       "      <td>284</td>\n",
       "      <td>7</td>\n",
       "      <td>0</td>\n",
       "      <td>0</td>\n",
       "      <td>85551</td>\n",
       "      <td>131</td>\n",
       "      <td>1</td>\n",
       "      <td>0</td>\n",
       "      <td>1</td>\n",
       "      <td>...</td>\n",
       "      <td>0</td>\n",
       "      <td>0</td>\n",
       "      <td>0</td>\n",
       "      <td>0</td>\n",
       "      <td>0</td>\n",
       "      <td>0</td>\n",
       "      <td>0</td>\n",
       "      <td>0</td>\n",
       "      <td>0</td>\n",
       "      <td>0</td>\n",
       "    </tr>\n",
       "  </tbody>\n",
       "</table>\n",
       "<p>5 rows × 17067 columns</p>\n",
       "</div>"
      ],
      "text/plain": [
       "   Bldg City  Bldg Country  Bldg State  Bldg Status  Property Type  \\\n",
       "0        724           370           7            0              0   \n",
       "1       1182           586           7            0              0   \n",
       "2       1820           586           7            0              0   \n",
       "3        724           370           7            0              0   \n",
       "4        199           284           7            0              0   \n",
       "\n",
       "   Bldg ANSI Usable  Total Parking Spaces  Owned/Leased  Historical Status  \\\n",
       "0             93394                    28             1                  3   \n",
       "1             67174                     0             1                  3   \n",
       "2               269                     0             0                  3   \n",
       "3            197999                   105             1                  0   \n",
       "4             85551                   131             1                  0   \n",
       "\n",
       "   ABA Accessibility Flag   ...  Bldg Address2_US HIGHWAY 90  \\\n",
       "0                        1  ...                            0   \n",
       "1                        1  ...                            0   \n",
       "2                        1  ...                            0   \n",
       "3                        1  ...                            0   \n",
       "4                        1  ...                            0   \n",
       "\n",
       "   Bldg Address2_US HWY 89 @ CANADIAN BORDER  \\\n",
       "0                                          0   \n",
       "1                                          0   \n",
       "2                                          0   \n",
       "3                                          0   \n",
       "4                                          0   \n",
       "\n",
       "   Bldg Address2_WALNUT & ORCHARD STS  Bldg Address2_WAREHOUSE 2  \\\n",
       "0                                   0                          0   \n",
       "1                                   0                          0   \n",
       "2                                   0                          0   \n",
       "3                                   0                          0   \n",
       "4                                   0                          0   \n",
       "\n",
       "   Bldg Address2_WASHINGTON,DC  Bldg Address2_WEST  \\\n",
       "0                            0                   0   \n",
       "1                            0                   0   \n",
       "2                            0                   0   \n",
       "3                            0                   0   \n",
       "4                            0                   0   \n",
       "\n",
       "   Bldg Address2_WEST POTOMAC PARK  Bldg Address2_WESTPARK BUSINESS CTR  \\\n",
       "0                                0                                    0   \n",
       "1                                0                                    0   \n",
       "2                                0                                    0   \n",
       "3                                0                                    0   \n",
       "4                                0                                    0   \n",
       "\n",
       "   Bldg Address2_WHITE PLAINS  Bldg Address2_YORK VILLAGE BUILDING 6 SUITE C  \n",
       "0                           0                                              0  \n",
       "1                           0                                              0  \n",
       "2                           0                                              0  \n",
       "3                           0                                              0  \n",
       "4                           0                                              0  \n",
       "\n",
       "[5 rows x 17067 columns]"
      ]
     },
     "execution_count": 32,
     "metadata": {},
     "output_type": "execute_result"
    }
   ],
   "source": [
    "df.head()"
   ]
  },
  {
   "cell_type": "code",
   "execution_count": 33,
   "id": "86f39a28",
   "metadata": {},
   "outputs": [],
   "source": [
    "#Train Test Split\n",
    "X = df.drop('Owned/Leased',axis =1)\n",
    "\n",
    "#Copy target into the y dataframe\n",
    "y = df['Owned/Leased']"
   ]
  },
  {
   "cell_type": "code",
   "execution_count": 34,
   "id": "1f0da89d",
   "metadata": {},
   "outputs": [],
   "source": [
    "#Split X and y into training and test set in 70:30 ratio\n",
    "X_train, X_test, y_train, y_test = train_test_split(X,y,test_size = 0.30, random_state = 1, stratify = df['Owned/Leased'])"
   ]
  },
  {
   "cell_type": "code",
   "execution_count": 35,
   "id": "208ff518",
   "metadata": {},
   "outputs": [
    {
     "data": {
      "text/plain": [
       "0    0.767669\n",
       "1    0.232331\n",
       "Name: Owned/Leased, dtype: float64"
      ]
     },
     "execution_count": 35,
     "metadata": {},
     "output_type": "execute_result"
    }
   ],
   "source": [
    "y_train.value_counts(1)"
   ]
  },
  {
   "cell_type": "code",
   "execution_count": 36,
   "id": "8092456d",
   "metadata": {},
   "outputs": [
    {
     "data": {
      "text/plain": [
       "0    0.767627\n",
       "1    0.232373\n",
       "Name: Owned/Leased, dtype: float64"
      ]
     },
     "execution_count": 36,
     "metadata": {},
     "output_type": "execute_result"
    }
   ],
   "source": [
    "y_test.value_counts(1)"
   ]
  },
  {
   "cell_type": "markdown",
   "id": "2cf929b7",
   "metadata": {},
   "source": [
    "# Logistic Regression"
   ]
  },
  {
   "cell_type": "code",
   "execution_count": 37,
   "id": "862e44b8",
   "metadata": {},
   "outputs": [
    {
     "name": "stderr",
     "output_type": "stream",
     "text": [
      "[Parallel(n_jobs=2)]: Using backend LokyBackend with 2 concurrent workers.\n",
      "[Parallel(n_jobs=2)]: Done   1 out of   1 | elapsed: 98.4min finished\n"
     ]
    },
    {
     "data": {
      "text/plain": [
       "LogisticRegression(max_iter=10000, n_jobs=2, penalty='none', solver='newton-cg',\n",
       "                   verbose=True)"
      ]
     },
     "execution_count": 37,
     "metadata": {},
     "output_type": "execute_result"
    }
   ],
   "source": [
    "#Logistic Regression Model\n",
    "#Fit the Logistic Regression model\n",
    "model = LogisticRegression(solver = 'newton-cg', max_iter = 10000, penalty = 'none', verbose = True, n_jobs=2)\n",
    "model.fit(X_train, y_train)"
   ]
  },
  {
   "cell_type": "markdown",
   "id": "62fb668b",
   "metadata": {},
   "source": [
    "#### Predicting on Training and Test Dataset"
   ]
  },
  {
   "cell_type": "code",
   "execution_count": 38,
   "id": "7a6a3ba2",
   "metadata": {},
   "outputs": [],
   "source": [
    "ytrain_predict = model.predict(X_train)\n",
    "ytest_predict = model.predict(X_test)"
   ]
  },
  {
   "cell_type": "markdown",
   "id": "97ed02c7",
   "metadata": {},
   "source": [
    "### Getting the predicted classes and probs"
   ]
  },
  {
   "cell_type": "code",
   "execution_count": 39,
   "id": "bec34171",
   "metadata": {},
   "outputs": [
    {
     "data": {
      "text/html": [
       "<div>\n",
       "<style scoped>\n",
       "    .dataframe tbody tr th:only-of-type {\n",
       "        vertical-align: middle;\n",
       "    }\n",
       "\n",
       "    .dataframe tbody tr th {\n",
       "        vertical-align: top;\n",
       "    }\n",
       "\n",
       "    .dataframe thead th {\n",
       "        text-align: right;\n",
       "    }\n",
       "</style>\n",
       "<table border=\"1\" class=\"dataframe\">\n",
       "  <thead>\n",
       "    <tr style=\"text-align: right;\">\n",
       "      <th></th>\n",
       "      <th>0</th>\n",
       "      <th>1</th>\n",
       "    </tr>\n",
       "  </thead>\n",
       "  <tbody>\n",
       "    <tr>\n",
       "      <th>0</th>\n",
       "      <td>1.000000</td>\n",
       "      <td>8.511801e-08</td>\n",
       "    </tr>\n",
       "    <tr>\n",
       "      <th>1</th>\n",
       "      <td>0.055411</td>\n",
       "      <td>9.445889e-01</td>\n",
       "    </tr>\n",
       "    <tr>\n",
       "      <th>2</th>\n",
       "      <td>0.999999</td>\n",
       "      <td>9.709022e-07</td>\n",
       "    </tr>\n",
       "    <tr>\n",
       "      <th>3</th>\n",
       "      <td>0.999998</td>\n",
       "      <td>1.838193e-06</td>\n",
       "    </tr>\n",
       "    <tr>\n",
       "      <th>4</th>\n",
       "      <td>0.999999</td>\n",
       "      <td>9.701939e-07</td>\n",
       "    </tr>\n",
       "  </tbody>\n",
       "</table>\n",
       "</div>"
      ],
      "text/plain": [
       "          0             1\n",
       "0  1.000000  8.511801e-08\n",
       "1  0.055411  9.445889e-01\n",
       "2  0.999999  9.709022e-07\n",
       "3  0.999998  1.838193e-06\n",
       "4  0.999999  9.701939e-07"
      ]
     },
     "execution_count": 39,
     "metadata": {},
     "output_type": "execute_result"
    }
   ],
   "source": [
    "ytest_predict_prob = model.predict_proba(X_test)\n",
    "pd.DataFrame(ytest_predict_prob).head()"
   ]
  },
  {
   "cell_type": "code",
   "execution_count": 40,
   "id": "777a49ff",
   "metadata": {},
   "outputs": [
    {
     "data": {
      "text/plain": [
       "1.0"
      ]
     },
     "execution_count": 40,
     "metadata": {},
     "output_type": "execute_result"
    }
   ],
   "source": [
    "#Model Evaluation\n",
    "model.score(X_train, y_train)"
   ]
  },
  {
   "cell_type": "markdown",
   "id": "55f2d561",
   "metadata": {},
   "source": [
    "### AUC and ROC for the training data"
   ]
  },
  {
   "cell_type": "code",
   "execution_count": 41,
   "id": "09de4500",
   "metadata": {},
   "outputs": [
    {
     "name": "stdout",
     "output_type": "stream",
     "text": [
      "AUC: 1.000\n"
     ]
    },
    {
     "data": {
      "image/png": "[encoded data removed]",
      "text/plain": [
       "<Figure size 640x480 with 1 Axes>"
      ]
     },
     "metadata": {},
     "output_type": "display_data"
    }
   ],
   "source": [
    "# predict probabilities\n",
    "probs = model.predict_proba(X_train)\n",
    "# keep probabilities for the positive outcome only\n",
    "probs = probs[:, 1]\n",
    "# calculate AUC\n",
    "auc = roc_auc_score(y_train, probs)\n",
    "print('AUC: %.3f' % auc)\n",
    "# calculate roc curve\n",
    "train_fpr, train_tpr, train_thresholds = roc_curve(y_train, probs)\n",
    "plt.plot([0, 1], [0, 1], linestyle='--')\n",
    "# plot the roc curve for the model\n",
    "plt.plot(train_fpr, train_tpr);"
   ]
  },
  {
   "cell_type": "code",
   "execution_count": 42,
   "id": "78c3f7d0",
   "metadata": {},
   "outputs": [
    {
     "data": {
      "text/plain": [
       "0.8934799090219864"
      ]
     },
     "execution_count": 42,
     "metadata": {},
     "output_type": "execute_result"
    }
   ],
   "source": [
    "# Accuracy - Test Data\n",
    "model.score(X_test, y_test)"
   ]
  },
  {
   "cell_type": "markdown",
   "id": "fd0011e2",
   "metadata": {},
   "source": [
    "### AUC and ROC for the test data"
   ]
  },
  {
   "cell_type": "code",
   "execution_count": 43,
   "id": "341046f1",
   "metadata": {},
   "outputs": [
    {
     "name": "stdout",
     "output_type": "stream",
     "text": [
      "AUC: 1.000\n"
     ]
    },
    {
     "data": {
      "image/png": "[encoded data removed]",
      "text/plain": [
       "<Figure size 640x480 with 1 Axes>"
      ]
     },
     "metadata": {},
     "output_type": "display_data"
    }
   ],
   "source": [
    "# predict probabilities\n",
    "probs = model.predict_proba(X_test)\n",
    "# keep probabilities for the positive outcome only\n",
    "probs = probs[:, 1]\n",
    "# calculate AUC\n",
    "test_auc = roc_auc_score(y_test, probs)\n",
    "print('AUC: %.3f' % auc)\n",
    "# calculate roc curve\n",
    "test_fpr, test_tpr, test_thresholds = roc_curve(y_test, probs)\n",
    "plt.plot([0, 1], [0, 1], linestyle='--')\n",
    "# plot the roc curve for the model\n",
    "plt.plot(test_fpr, test_tpr);"
   ]
  },
  {
   "cell_type": "markdown",
   "id": "a8555b34",
   "metadata": {},
   "source": [
    "### Confusion Matrix for training data"
   ]
  },
  {
   "cell_type": "code",
   "execution_count": 44,
   "id": "2cd9dc90",
   "metadata": {},
   "outputs": [
    {
     "data": {
      "text/plain": [
       "array([[4725,    0],\n",
       "       [   0, 1430]], dtype=int64)"
      ]
     },
     "execution_count": 44,
     "metadata": {},
     "output_type": "execute_result"
    }
   ],
   "source": [
    "confusion_matrix(y_train, ytrain_predict)"
   ]
  },
  {
   "cell_type": "code",
   "execution_count": 45,
   "id": "8a64f120",
   "metadata": {},
   "outputs": [
    {
     "name": "stderr",
     "output_type": "stream",
     "text": [
      "C:\\Users\\Dell\\anaconda3\\lib\\site-packages\\sklearn\\utils\\deprecation.py:87: FutureWarning: Function plot_confusion_matrix is deprecated; Function `plot_confusion_matrix` is deprecated in 1.0 and will be removed in 1.2. Use one of the class methods: ConfusionMatrixDisplay.from_predictions or ConfusionMatrixDisplay.from_estimator.\n",
      "  warnings.warn(msg, category=FutureWarning)\n"
     ]
    },
    {
     "data": {
      "image/png": "[encoded data removed]",
      "text/plain": [
       "<Figure size 640x480 with 2 Axes>"
      ]
     },
     "metadata": {},
     "output_type": "display_data"
    }
   ],
   "source": [
    "plot_confusion_matrix(model,X_train,y_train);"
   ]
  },
  {
   "cell_type": "code",
   "execution_count": 46,
   "id": "85bc119b",
   "metadata": {},
   "outputs": [
    {
     "name": "stdout",
     "output_type": "stream",
     "text": [
      "              precision    recall  f1-score   support\n",
      "\n",
      "           0       1.00      1.00      1.00      4725\n",
      "           1       1.00      1.00      1.00      1430\n",
      "\n",
      "    accuracy                           1.00      6155\n",
      "   macro avg       1.00      1.00      1.00      6155\n",
      "weighted avg       1.00      1.00      1.00      6155\n",
      "\n"
     ]
    }
   ],
   "source": [
    "print(classification_report(y_train, ytrain_predict))"
   ]
  },
  {
   "cell_type": "markdown",
   "id": "da239417",
   "metadata": {},
   "source": [
    "### Confusion Matrix for test data"
   ]
  },
  {
   "cell_type": "code",
   "execution_count": 47,
   "id": "2fb2fddb",
   "metadata": {},
   "outputs": [
    {
     "data": {
      "text/plain": [
       "array([[2007,   18],\n",
       "       [ 263,  350]], dtype=int64)"
      ]
     },
     "execution_count": 47,
     "metadata": {},
     "output_type": "execute_result"
    }
   ],
   "source": [
    "confusion_matrix(y_test, ytest_predict)"
   ]
  },
  {
   "cell_type": "code",
   "execution_count": 48,
   "id": "8def4561",
   "metadata": {},
   "outputs": [
    {
     "name": "stderr",
     "output_type": "stream",
     "text": [
      "C:\\Users\\Dell\\anaconda3\\lib\\site-packages\\sklearn\\utils\\deprecation.py:87: FutureWarning: Function plot_confusion_matrix is deprecated; Function `plot_confusion_matrix` is deprecated in 1.0 and will be removed in 1.2. Use one of the class methods: ConfusionMatrixDisplay.from_predictions or ConfusionMatrixDisplay.from_estimator.\n",
      "  warnings.warn(msg, category=FutureWarning)\n"
     ]
    },
    {
     "data": {
      "image/png": "[encoded data removed]",
      "text/plain": [
       "<Figure size 640x480 with 2 Axes>"
      ]
     },
     "metadata": {},
     "output_type": "display_data"
    }
   ],
   "source": [
    "plot_confusion_matrix(model,X_test,y_test);"
   ]
  },
  {
   "cell_type": "code",
   "execution_count": 49,
   "id": "2d9aefe6",
   "metadata": {},
   "outputs": [
    {
     "name": "stdout",
     "output_type": "stream",
     "text": [
      "              precision    recall  f1-score   support\n",
      "\n",
      "           0       0.88      0.99      0.93      2025\n",
      "           1       0.95      0.57      0.71       613\n",
      "\n",
      "    accuracy                           0.89      2638\n",
      "   macro avg       0.92      0.78      0.82      2638\n",
      "weighted avg       0.90      0.89      0.88      2638\n",
      "\n"
     ]
    }
   ],
   "source": [
    "print(classification_report(y_test, ytest_predict))"
   ]
  },
  {
   "cell_type": "markdown",
   "id": "34abcf3d",
   "metadata": {},
   "source": [
    "# Decision Tree "
   ]
  },
  {
   "cell_type": "code",
   "execution_count": 50,
   "id": "dc25fa30",
   "metadata": {},
   "outputs": [
    {
     "data": {
      "text/plain": [
       "DecisionTreeClassifier()"
      ]
     },
     "execution_count": 50,
     "metadata": {},
     "output_type": "execute_result"
    }
   ],
   "source": [
    "from sklearn import tree\n",
    "\n",
    "\n",
    "DT_model= tree.DecisionTreeClassifier()\n",
    "DT_model.fit(X_train, y_train)"
   ]
  },
  {
   "cell_type": "code",
   "execution_count": 51,
   "id": "ba1f8a66",
   "metadata": {},
   "outputs": [
    {
     "name": "stdout",
     "output_type": "stream",
     "text": [
      "1.0\n",
      "[[4725    0]\n",
      " [   0 1430]]\n",
      "              precision    recall  f1-score   support\n",
      "\n",
      "           0       1.00      1.00      1.00      4725\n",
      "           1       1.00      1.00      1.00      1430\n",
      "\n",
      "    accuracy                           1.00      6155\n",
      "   macro avg       1.00      1.00      1.00      6155\n",
      "weighted avg       1.00      1.00      1.00      6155\n",
      "\n"
     ]
    }
   ],
   "source": [
    "## Performance Matrix on train data set\n",
    "y_train_predict = DT_model.predict(X_train)\n",
    "model_score = DT_model.score(X_train, y_train)\n",
    "print(model_score)\n",
    "print(metrics.confusion_matrix(y_train, y_train_predict))\n",
    "print(metrics.classification_report(y_train, y_train_predict))"
   ]
  },
  {
   "cell_type": "code",
   "execution_count": 52,
   "id": "041d4e9b",
   "metadata": {},
   "outputs": [
    {
     "name": "stdout",
     "output_type": "stream",
     "text": [
      "0.9480667172100076\n",
      "[[1955   70]\n",
      " [  67  546]]\n",
      "              precision    recall  f1-score   support\n",
      "\n",
      "           0       0.97      0.97      0.97      2025\n",
      "           1       0.89      0.89      0.89       613\n",
      "\n",
      "    accuracy                           0.95      2638\n",
      "   macro avg       0.93      0.93      0.93      2638\n",
      "weighted avg       0.95      0.95      0.95      2638\n",
      "\n"
     ]
    }
   ],
   "source": [
    "## Performance Matrix on test data set\n",
    "y_test_predict = DT_model.predict(X_test)\n",
    "model_score = DT_model.score(X_test, y_test)\n",
    "print(model_score)\n",
    "print(metrics.confusion_matrix(y_test, y_test_predict))\n",
    "print(metrics.classification_report(y_test, y_test_predict))"
   ]
  },
  {
   "cell_type": "markdown",
   "id": "b6a9b543",
   "metadata": {},
   "source": [
    "# Random Forest Classifier\n"
   ]
  },
  {
   "cell_type": "code",
   "execution_count": 53,
   "id": "32d99f57",
   "metadata": {},
   "outputs": [
    {
     "data": {
      "text/plain": [
       "RandomForestClassifier(random_state=1)"
      ]
     },
     "execution_count": 53,
     "metadata": {},
     "output_type": "execute_result"
    }
   ],
   "source": [
    "from sklearn.ensemble import RandomForestClassifier\n",
    "\n",
    "RF_model=RandomForestClassifier(n_estimators=100,random_state=1)\n",
    "RF_model.fit(X_train, y_train)"
   ]
  },
  {
   "cell_type": "code",
   "execution_count": 54,
   "id": "50428c91",
   "metadata": {},
   "outputs": [
    {
     "name": "stdout",
     "output_type": "stream",
     "text": [
      "1.0\n",
      "[[4725    0]\n",
      " [   0 1430]]\n",
      "              precision    recall  f1-score   support\n",
      "\n",
      "           0       1.00      1.00      1.00      4725\n",
      "           1       1.00      1.00      1.00      1430\n",
      "\n",
      "    accuracy                           1.00      6155\n",
      "   macro avg       1.00      1.00      1.00      6155\n",
      "weighted avg       1.00      1.00      1.00      6155\n",
      "\n"
     ]
    }
   ],
   "source": [
    "## Performance Matrix on train data set\n",
    "y_train_predict = RF_model.predict(X_train)\n",
    "model_score =RF_model.score(X_train, y_train)\n",
    "print(model_score)\n",
    "print(metrics.confusion_matrix(y_train, y_train_predict))\n",
    "print(metrics.classification_report(y_train, y_train_predict))"
   ]
  },
  {
   "cell_type": "code",
   "execution_count": 55,
   "id": "56f97e99",
   "metadata": {},
   "outputs": [
    {
     "name": "stdout",
     "output_type": "stream",
     "text": [
      "0.9476876421531463\n",
      "[[2007   18]\n",
      " [ 120  493]]\n",
      "              precision    recall  f1-score   support\n",
      "\n",
      "           0       0.94      0.99      0.97      2025\n",
      "           1       0.96      0.80      0.88       613\n",
      "\n",
      "    accuracy                           0.95      2638\n",
      "   macro avg       0.95      0.90      0.92      2638\n",
      "weighted avg       0.95      0.95      0.95      2638\n",
      "\n"
     ]
    }
   ],
   "source": [
    "## Performance Matrix on test data set\n",
    "y_test_predict = RF_model.predict(X_test)\n",
    "model_score = RF_model.score(X_test, y_test)\n",
    "print(model_score)\n",
    "print(metrics.confusion_matrix(y_test, y_test_predict))\n",
    "print(metrics.classification_report(y_test, y_test_predict))"
   ]
  },
  {
   "cell_type": "markdown",
   "id": "0c27b357",
   "metadata": {},
   "source": [
    "**In this case, the decision tree and random forest have similar accuracy, but the decision tree has a slightly better balance between precision and recall for Class 1. Therefore, based on the provided metrics, the decision tree may be considered the better model.**"
   ]
  },
  {
   "cell_type": "code",
   "execution_count": null,
   "id": "96138295",
   "metadata": {},
   "outputs": [],
   "source": []
  }
 ],
 "metadata": {
  "kernelspec": {
   "display_name": "Python 3 (ipykernel)",
   "language": "python",
   "name": "python3"
  },
  "language_info": {
   "codemirror_mode": {
    "name": "ipython",
    "version": 3
   },
   "file_extension": ".py",
   "mimetype": "text/x-python",
   "name": "python",
   "nbconvert_exporter": "python",
   "pygments_lexer": "ipython3",
   "version": "3.9.13"
  }
 },
 "nbformat": 4,
 "nbformat_minor": 5
}
